{
  "cells": [
    {
      "cell_type": "markdown",
      "metadata": {
        "id": "view-in-github",
        "colab_type": "text"
      },
      "source": [
        "<a href=\"https://colab.research.google.com/github/kimsoohwa/jejumaster/blob/main/1%EC%9D%BC%EC%B0%A8_%ED%8C%8C%EC%9D%B4%EC%8D%AC%EA%B8%B0%EC%B4%88%EB%8B%A4%EC%A7%80%EA%B8%B0_%EC%8B%A4%EC%8A%B52.ipynb\" target=\"_parent\"><img src=\"https://colab.research.google.com/assets/colab-badge.svg\" alt=\"Open In Colab\"/></a>"
      ]
    },
    {
      "cell_type": "markdown",
      "metadata": {
        "id": "zRxHpy-28GGG"
      },
      "source": [
        "# 1일차-파이썬 기초 다지기"
      ]
    },
    {
      "cell_type": "markdown",
      "source": [
        "## 1.파이썬 이해하기"
      ],
      "metadata": {
        "id": "VRVM91mPB34V"
      }
    },
    {
      "cell_type": "markdown",
      "source": [],
      "metadata": {
        "id": "99K5qAueQXEr"
      }
    },
    {
      "cell_type": "markdown",
      "metadata": {
        "id": "hOwZhukd8GGK"
      },
      "source": [
        "### 1-2.파이썬 학습환경 만들기"
      ]
    },
    {
      "cell_type": "markdown",
      "metadata": {
        "id": "HAFtSTG28GGL"
      },
      "source": [
        "#### 파이썬 설치 위치 확인"
      ]
    },
    {
      "cell_type": "code",
      "execution_count": null,
      "metadata": {
        "id": "46cMOIHW8GGM"
      },
      "outputs": [],
      "source": [
        "import sys\n",
        "\n",
        "sys.executable"
      ]
    },
    {
      "cell_type": "code",
      "execution_count": null,
      "metadata": {
        "scrolled": true,
        "id": "CO9pIWvq8GGN"
      },
      "outputs": [],
      "source": [
        "print(sys.path)"
      ]
    },
    {
      "cell_type": "markdown",
      "source": [
        "### 1-3.파이썬 라이브러리 사용 방법"
      ],
      "metadata": {
        "id": "0ys111OTCLoc"
      }
    },
    {
      "cell_type": "markdown",
      "metadata": {
        "id": "5KtJAiS08GGO"
      },
      "source": [
        "#### 설치된 라이브러리 전체 확인"
      ]
    },
    {
      "cell_type": "code",
      "execution_count": null,
      "metadata": {
        "id": "0bsTdq6y8GGO"
      },
      "outputs": [],
      "source": [
        "pip list"
      ]
    },
    {
      "cell_type": "markdown",
      "metadata": {
        "id": "G_IjDeFh8GGP"
      },
      "source": [
        "#### 특정 라이브러리 설치 확인"
      ]
    },
    {
      "cell_type": "code",
      "execution_count": null,
      "metadata": {
        "id": "TqvE9YpV8GGP"
      },
      "outputs": [],
      "source": [
        "pip show numpy"
      ]
    },
    {
      "cell_type": "markdown",
      "source": [
        "#### 라이브러리 설치 및 삭제"
      ],
      "metadata": {
        "id": "KE15Fd6jCbUK"
      }
    },
    {
      "cell_type": "code",
      "source": [
        "# 라이브러리 설치\n",
        "pip install numpy\n",
        "\n",
        "# 라이브러리 삭제\n",
        "# pip uninstall numpy"
      ],
      "metadata": {
        "id": "PlG-i1fYCbdI"
      },
      "execution_count": null,
      "outputs": []
    },
    {
      "cell_type": "markdown",
      "metadata": {
        "id": "6Ef7gKpD8GGP"
      },
      "source": [
        "### 수업에 사용할 라이브러리 일부 설치하기\n",
        "(PC 윈도우 명령프롬프트에서 먼저 실행) pip를 최신으로 업그레이드한 후\n",
        "파이썬 라이브러리를 설치하도록 한다.\n",
        "- python -m pip install --upgrade pip  "
      ]
    },
    {
      "cell_type": "code",
      "execution_count": null,
      "metadata": {
        "colab": {
          "base_uri": "https://localhost:8080/"
        },
        "id": "WnEwfA_x8GGQ",
        "outputId": "776d8469-56cc-4d2b-b4f4-01ca7903c04e"
      },
      "outputs": [
        {
          "output_type": "stream",
          "name": "stdout",
          "text": [
            "Requirement already satisfied: numpy in /usr/local/lib/python3.10/dist-packages (1.23.5)\n"
          ]
        }
      ],
      "source": [
        "!pip install numpy"
      ]
    },
    {
      "cell_type": "markdown",
      "source": [
        "### 1-4.파이썬 기초 입문하기"
      ],
      "metadata": {
        "id": "KstHzAdvG1Cv"
      }
    },
    {
      "cell_type": "markdown",
      "source": [
        "#### 파이썬 오류&예외처리"
      ],
      "metadata": {
        "id": "KSNOrnoMHEjD"
      }
    },
    {
      "cell_type": "code",
      "source": [
        "# Syntax 오류 발생 예\n",
        "a = 1\n",
        "if a < 9\n",
        "    print('a < 9')"
      ],
      "metadata": {
        "colab": {
          "base_uri": "https://localhost:8080/",
          "height": 146
        },
        "id": "B8pmiTi5G8JX",
        "outputId": "aa4a046e-1567-414a-83fa-c3f958e75288"
      },
      "execution_count": null,
      "outputs": [
        {
          "output_type": "error",
          "ename": "SyntaxError",
          "evalue": "ignored",
          "traceback": [
            "\u001b[0;36m  File \u001b[0;32m\"<ipython-input-15-280c9a905a11>\"\u001b[0;36m, line \u001b[0;32m3\u001b[0m\n\u001b[0;31m    if a < 9\u001b[0m\n\u001b[0m            ^\u001b[0m\n\u001b[0;31mSyntaxError\u001b[0m\u001b[0;31m:\u001b[0m expected ':'\n"
          ]
        }
      ]
    },
    {
      "cell_type": "code",
      "source": [
        "# 오류 예외처리\n",
        "while True:\n",
        "    try:\n",
        "        x = int(input('Please enter a number: '))\n",
        "        break\n",
        "\n",
        "    except ValueError:\n",
        "        print('Oops! That was no valid number. Try again...')\n",
        "\n",
        "print('-----')"
      ],
      "metadata": {
        "colab": {
          "base_uri": "https://localhost:8080/"
        },
        "id": "GJ1Y-0wMHXJd",
        "outputId": "68137f3a-cfe2-476b-b248-5531cdd96985"
      },
      "execution_count": null,
      "outputs": [
        {
          "output_type": "stream",
          "name": "stdout",
          "text": [
            "Please enter a number: 10\n",
            "-----\n"
          ]
        }
      ]
    },
    {
      "cell_type": "markdown",
      "source": [
        "### [실습] 파이썬 정보 확인하기\n",
        "\n",
        "\n",
        "1.   설치된 파이썬 버전 출력하기\n",
        "2.   파이썬 실행파일 위치 출력하기\n",
        "\n"
      ],
      "metadata": {
        "id": "BVZeLUFeILol"
      }
    },
    {
      "cell_type": "code",
      "source": [
        "#버젼\n",
        "import sys\n",
        "print(f'파이썬 버젼 :{sys.version}')\n",
        "#위치\n",
        "print(sys.path)\n",
        "print(f'파이썬 위치 :{sys.executable}')"
      ],
      "metadata": {
        "id": "wYTlynjPIaj4",
        "colab": {
          "base_uri": "https://localhost:8080/"
        },
        "outputId": "4fb796b9-34e7-468d-c6ac-88a86c34cfa7"
      },
      "execution_count": null,
      "outputs": [
        {
          "output_type": "stream",
          "name": "stdout",
          "text": [
            "파이썬 버젼 :3.10.12 (main, Jun 11 2023, 05:26:28) [GCC 11.4.0]\n",
            "['/content', '/env/python', '/usr/lib/python310.zip', '/usr/lib/python3.10', '/usr/lib/python3.10/lib-dynload', '', '/usr/local/lib/python3.10/dist-packages', '/usr/lib/python3/dist-packages', '/usr/local/lib/python3.10/dist-packages/IPython/extensions', '/root/.ipython']\n",
            "파이썬 위치 :/usr/bin/python3\n"
          ]
        }
      ]
    },
    {
      "cell_type": "markdown",
      "metadata": {
        "id": "wl2PYxtB8GGR"
      },
      "source": [
        "----------"
      ]
    },
    {
      "cell_type": "markdown",
      "source": [
        "## 2.파이썬 기초 다지기"
      ],
      "metadata": {
        "id": "T20_kqnwDKe2"
      }
    },
    {
      "cell_type": "markdown",
      "metadata": {
        "id": "GPQdotYg8GGR"
      },
      "source": [
        "### 2-1.파이썬 자료형과 연산자"
      ]
    },
    {
      "cell_type": "markdown",
      "source": [
        "### **[파이썬 자료형]**"
      ],
      "metadata": {
        "id": "tvdq0vw7OBaH"
      }
    },
    {
      "cell_type": "markdown",
      "source": [
        "### [실습문제]\n",
        "\n",
        "\n",
        "-  문제1: 10 + 3 x 4 결과 출력\n",
        "- 문제2: 아이폰 15대를 가지고 있다. 아이폰의 가격이 130만원 일 때 총 금액은?\n",
        "- 문제3: 주어진 자연수가 홀수인지 짝수인지 판별하는 방법은?\n",
        "- 문제4: 2x2x2x5x5x5x5x3x3x3x3을 제곱형태로 나타낸 후 그 결과 출력하기\n",
        "\n"
      ],
      "metadata": {
        "id": "0l4jT7BAI2_t"
      }
    },
    {
      "cell_type": "code",
      "source": [
        "result = 10+3*4\n",
        "print(result)\n",
        "\n",
        "\n"
      ],
      "metadata": {
        "id": "F0LQlgLkI3R2",
        "colab": {
          "base_uri": "https://localhost:8080/"
        },
        "outputId": "8005212d-5d9d-4e93-f665-a0e54370f3fa"
      },
      "execution_count": null,
      "outputs": [
        {
          "output_type": "stream",
          "name": "stdout",
          "text": [
            "22\n"
          ]
        }
      ]
    },
    {
      "cell_type": "markdown",
      "metadata": {
        "id": "rQVzLcNR8GGR"
      },
      "source": [
        "#### 파이썬 자료형 확인"
      ]
    },
    {
      "cell_type": "code",
      "execution_count": null,
      "metadata": {
        "colab": {
          "base_uri": "https://localhost:8080/"
        },
        "id": "re9ioSIM8GGR",
        "outputId": "dca3f7ab-1822-495c-f19f-f3f00a18b41f"
      },
      "outputs": [
        {
          "output_type": "stream",
          "name": "stdout",
          "text": [
            "123의 자료형: <class 'int'>\n",
            "123의 자료형: <class 'str'>\n",
            "[123]의 자료형: <class 'list'>\n",
            "(123,)의 자료형: <class 'tuple'>\n",
            "{'key': 123}의 자료형: <class 'dict'>\n",
            "{123}의 자료형: <class 'set'>\n",
            "True의 자료형: <class 'bool'>\n"
          ]
        }
      ],
      "source": [
        "d1 = 123\n",
        "d2 = '123'\n",
        "d3 = [123]\n",
        "d4 = (123,)\n",
        "d5 = {'key':123}\n",
        "d6 = {123}\n",
        "d7 = True\n",
        "\n",
        "print(f'{d1}의 자료형: {type(d1)}')\n",
        "print(f'{d2}의 자료형: {type(d2)}')\n",
        "print(f'{d3}의 자료형: {type(d3)}')\n",
        "print(f'{d4}의 자료형: {type(d4)}')\n",
        "print(f'{d5}의 자료형: {type(d5)}')\n",
        "print(f'{d6}의 자료형: {type(d6)}')\n",
        "print(f'{d7}의 자료형: {type(d7)}')"
      ]
    },
    {
      "cell_type": "code",
      "execution_count": null,
      "metadata": {
        "scrolled": true,
        "id": "gbzIvlUi8GGR",
        "colab": {
          "base_uri": "https://localhost:8080/"
        },
        "outputId": "a182ed79-8f5d-4c91-f5ec-d49af2ee5f19"
      },
      "outputs": [
        {
          "output_type": "stream",
          "name": "stdout",
          "text": [
            "데이터 '123' 의 자료형: <class 'int'>\n",
            "데이터 '123' 의 자료형: <class 'str'>\n",
            "데이터 '[123]' 의 자료형: <class 'list'>\n",
            "데이터 '(123,)' 의 자료형: <class 'tuple'>\n",
            "데이터 '{'key': 123}' 의 자료형: <class 'dict'>\n",
            "데이터 '{123}' 의 자료형: <class 'set'>\n",
            "데이터 'True' 의 자료형: <class 'bool'>\n"
          ]
        }
      ],
      "source": [
        "datas = [123,'123',[123],(123,),{'key':123},{123},True]\n",
        "\n",
        "for d in datas:\n",
        "         print(f\"데이터 '{d}' 의 자료형: {type(d)}\")"
      ]
    },
    {
      "cell_type": "markdown",
      "metadata": {
        "id": "EDFiaZyv8GGR"
      },
      "source": [
        "#### 실습문제\n",
        "두 수를 입력 받아 덧셈, 뺄셈, 곱셈, 몫, 나머지를 출력하는 프로그램을 작성하세요\n"
      ]
    },
    {
      "cell_type": "code",
      "execution_count": null,
      "metadata": {
        "scrolled": true,
        "id": "a9sG7Q738GGS",
        "colab": {
          "base_uri": "https://localhost:8080/"
        },
        "outputId": "dee702f6-e0cd-4c3a-a3c2-a396d6100034"
      },
      "outputs": [
        {
          "output_type": "stream",
          "name": "stdout",
          "text": [
            "첫번째 숫자를 입력하세요.50\n",
            "두번째 숫자를 입력하세요.3\n",
            "==================================================\n",
            "덧셈:50+3=53\n",
            "뺄셈:50-3=47\n",
            "곱셈:50*3=150\n",
            "몫:50//3=16\n",
            "나머지:50%3=2\n"
          ]
        }
      ],
      "source": [
        "num1= int(input('첫번째 숫자를 입력하세요.'))\n",
        "num2= int(input('두번째 숫자를 입력하세요.'))\n",
        "print('='*50)\n",
        "\n",
        "plus =num1+num2\n",
        "print(f'덧셈:{num1}+{num2}={plus}')\n",
        "\n",
        "minus =num1-num2\n",
        "print(f'뺄셈:{num1}-{num2}={minus}')\n",
        "\n",
        "multip=num1*num2\n",
        "print(f'곱셈:{num1}*{num2}={multip}')\n",
        "\n",
        "share=num1//num2\n",
        "print(f'몫:{num1}//{num2}={share}')\n",
        "\n",
        "rest=num1%num2\n",
        "print(f'나머지:{num1}%{num2}={rest}')\n",
        "\n"
      ]
    },
    {
      "cell_type": "code",
      "source": [
        "num1 = int(input('첫번째 숫자 :'))\n",
        "num2 = int(input('두번째 숫자 :'))\n",
        "print('*'*50)\n",
        "\n",
        "print(f' 뎃셈: {num1}+{num2}={num1+num2}')\n",
        "print(f' 뺄셈: {num1}-{num2}={num1-num2}')\n",
        "print(f' 곱셈: {num1}*{num2}={num1*num2}')\n",
        "print(f' 몫: {num1}//{num2}={num1//num2}')\n",
        "print(f' 나머지: {num1}%{num2}={num1%num2}')"
      ],
      "metadata": {
        "colab": {
          "base_uri": "https://localhost:8080/"
        },
        "id": "6qZtYOV1getn",
        "outputId": "bd2f2aec-5b70-489d-8b67-0c03fbd22dad"
      },
      "execution_count": null,
      "outputs": [
        {
          "output_type": "stream",
          "name": "stdout",
          "text": [
            "첫번째 숫자 :50\n",
            "두번째 숫자 :3\n",
            "**************************************************\n",
            " 뎃셈: 50+3=53\n",
            " 뺄셈: 50-3=47\n",
            " 곱셈: 50*3=150\n",
            " 몫: 50//3=16\n",
            " 나머지: 50%3=2\n"
          ]
        }
      ]
    },
    {
      "cell_type": "markdown",
      "metadata": {
        "id": "LqAbyRHs8GGS"
      },
      "source": [
        "#### 실습문제 :  시간 계산 프로그램\n",
        "속력과 거리를 입력 받아 시간을 계산하여 출력하는 프로그램을 만드세요!\n",
        "- 시간 = 거리 / 속력\n",
        "\n"
      ]
    },
    {
      "cell_type": "code",
      "execution_count": null,
      "metadata": {
        "id": "YwepfYt98GGS"
      },
      "outputs": [],
      "source": [
        "velocity = input('속력를 입력해 주세요(km/h) : ')\n",
        "distance = input('거리를 입력해 주세요(km) : ')\n",
        "\n",
        "velocity = int(input('속력을 입력해 주세요(km/h):'))\n",
        "distance =int(input('거리를 입력해 두세요(km):'))\n",
        "print('-'*50)\n",
        "print(f\"속력: {velocity} km/h \")\n",
        "print(f\"거리: {distance} km \")\n",
        "time=distance/velocity\n",
        "print(f\"시간: {time} h\")\n",
        "\n"
      ]
    },
    {
      "cell_type": "markdown",
      "source": [
        "- eval()함수 사용하여 문자열을 계산할 수 있다"
      ],
      "metadata": {
        "id": "sHIxGA0xLj0C"
      }
    },
    {
      "cell_type": "code",
      "execution_count": null,
      "metadata": {
        "id": "gvVxuLjX8GGS",
        "colab": {
          "base_uri": "https://localhost:8080/"
        },
        "outputId": "70d630a2-05ea-497f-f891-2a1488210640"
      },
      "outputs": [
        {
          "output_type": "stream",
          "name": "stdout",
          "text": [
            "3.4\n"
          ]
        }
      ],
      "source": [
        "# eval()함수 사용\n",
        "time = eval(f'{distance} / {velocity}')\n",
        "print(time)"
      ]
    },
    {
      "cell_type": "markdown",
      "metadata": {
        "id": "tECEWKan8GGS"
      },
      "source": [
        "#### 실습문제 : 정수 합 구하기\n",
        "아래와 같이 정수 n을 입력 받아, a + aa + aaa의 결과 값을 구하는 프로그램을 작성하세요"
      ]
    },
    {
      "cell_type": "code",
      "execution_count": null,
      "metadata": {
        "scrolled": true,
        "id": "a04GPnn98GGS",
        "colab": {
          "base_uri": "https://localhost:8080/"
        },
        "outputId": "bdb56e2b-8cde-42af-f68c-ac3e67505940"
      },
      "outputs": [
        {
          "output_type": "stream",
          "name": "stdout",
          "text": [
            "정수를 입력하세요:7\n",
            "7+77+777=861\n"
          ]
        }
      ],
      "source": [
        "\n",
        "a=input('정수를 입력하세요:')\n",
        "a=int(a)\n",
        "aa=int(f'{a}{a}')\n",
        "aaa=int(f'{a}{a}{a}')\n",
        "result=a+aa+aaa\n",
        "print(f'{a}+{aa}+{aaa}={result}')"
      ]
    },
    {
      "cell_type": "code",
      "source": [
        "a = input('숫자 입력: ')\n",
        "aaa = int(a+a+a)\n",
        "aa = int(a+a)\n",
        "a = int(a)\n",
        "print(f'{a} + {aa} + {aaa} = {a+aa+aaa}')\n"
      ],
      "metadata": {
        "colab": {
          "base_uri": "https://localhost:8080/"
        },
        "id": "SvADN-UNiqmg",
        "outputId": "16711310-9fb5-4fa5-9854-88bb2c3c44ae"
      },
      "execution_count": null,
      "outputs": [
        {
          "output_type": "stream",
          "name": "stdout",
          "text": [
            "숫자 입력: 7\n",
            "7 + 77 + 777 = 861\n"
          ]
        }
      ]
    },
    {
      "cell_type": "code",
      "source": [
        "a = input('숫자 하나를 입력하세요: ')\n",
        "print(f\"{a}+{aa}+{aaa} = {eval(f'{a}+{aa}+{aaa}')}\")\n",
        "# value = f'{a}+{aa}+{aaa}'\n",
        "# print(f\"{value} = {eval(value)}\")"
      ],
      "metadata": {
        "colab": {
          "base_uri": "https://localhost:8080/"
        },
        "id": "piYHgY5Uliw9",
        "outputId": "a5d14556-5976-43bf-9c1a-9fc8555de3e3"
      },
      "execution_count": null,
      "outputs": [
        {
          "output_type": "stream",
          "name": "stdout",
          "text": [
            "숫자 하나를 입력하세요: 7\n",
            "7+77+777 = 861\n"
          ]
        }
      ]
    },
    {
      "cell_type": "markdown",
      "source": [
        "#### 내장 수학 함수\n",
        "- 파이썬 내장 함수 https://docs.python.org/ko/3.10/library/functions.html"
      ],
      "metadata": {
        "id": "fCTCbmTxM-me"
      }
    },
    {
      "cell_type": "code",
      "source": [
        "import math\n",
        "\n",
        "print(f'원주율: {math.pi}')\n",
        "print(f'절대값: {abs(-10)}')\n",
        "print(f'반올림: {round(1.791, 2)}')\n",
        "print(f'올림  : {math.ceil(1.7)}')\n",
        "print(f'내림  : {math.floor(1.7)}')\n",
        "print(f'제곱  : {math.pow(2, 10)}')\n",
        "print(f'제곱근: {math.sqrt(4)}')\n",
        "print(f'로그  : {math.log(10) }')"
      ],
      "metadata": {
        "colab": {
          "base_uri": "https://localhost:8080/"
        },
        "id": "6Edr-y4FNAzY",
        "outputId": "3e3ee2bd-7f59-43dd-cca1-e75238cb6a42"
      },
      "execution_count": null,
      "outputs": [
        {
          "output_type": "stream",
          "name": "stdout",
          "text": [
            "원주율: 3.141592653589793\n",
            "절대값: 10\n",
            "반올림: 1.79\n",
            "올림  : 2\n",
            "내림  : 1\n",
            "제곱  : 1024.0\n",
            "제곱근: 2.0\n",
            "로그  : 2.302585092994046\n"
          ]
        }
      ]
    },
    {
      "cell_type": "markdown",
      "source": [
        "### [실습문제] : 수학 함수 사용하기\n",
        "- 문제1: 반지름이 4인 원의 넓이 출력\n",
        "- 문제2: 3.14 곱하가 2 나누기 7의 값을 반올림하여 계산 결과 출력\n",
        "- 문제3: 원주율을 3.14로 만들어서 반지름이 4인 원의 둘레의 길이 출력"
      ],
      "metadata": {
        "id": "aW7za8RUNErb"
      }
    },
    {
      "cell_type": "code",
      "source": [
        "\n",
        "\n"
      ],
      "metadata": {
        "id": "wdpC3giLNOhp"
      },
      "execution_count": null,
      "outputs": []
    },
    {
      "cell_type": "markdown",
      "metadata": {
        "id": "em_gXIiP8GGT"
      },
      "source": [
        "-----"
      ]
    },
    {
      "cell_type": "markdown",
      "source": [
        "### **[문자와 문자열]**"
      ],
      "metadata": {
        "id": "_AgpChJ_Ntbt"
      }
    },
    {
      "cell_type": "markdown",
      "source": [
        "#### 문자와 문자열 변환"
      ],
      "metadata": {
        "id": "hCBT7HywOk5c"
      }
    },
    {
      "cell_type": "code",
      "source": [
        "# 문자 --> 숫자(정수) 로 변환 : ord() 함수 사용\n",
        "print( ord('A') )\n",
        "print( ord('!') )\n",
        "print( ord('가') )"
      ],
      "metadata": {
        "id": "D1WbhodqOrVN",
        "colab": {
          "base_uri": "https://localhost:8080/"
        },
        "outputId": "ffa83545-8cea-40bf-c88a-c14a530e114c"
      },
      "execution_count": null,
      "outputs": [
        {
          "output_type": "stream",
          "name": "stdout",
          "text": [
            "65\n",
            "33\n",
            "44032\n"
          ]
        }
      ]
    },
    {
      "cell_type": "code",
      "source": [
        "# 숫자(정수) --> 문자 로 변환 : chr() 함수 사용\n",
        "print( chr(65) )\n",
        "print( chr(66) )\n",
        "print( chr(97) )\n",
        "print( chr(98) )\n",
        "print( chr(44032) )\n",
        "print( chr(44033) )"
      ],
      "metadata": {
        "id": "xS6nc_-XOw9X",
        "colab": {
          "base_uri": "https://localhost:8080/"
        },
        "outputId": "642e90f8-64bb-42ab-afad-947899d0bbd4"
      },
      "execution_count": null,
      "outputs": [
        {
          "output_type": "stream",
          "name": "stdout",
          "text": [
            "A\n",
            "B\n",
            "a\n",
            "b\n",
            "가\n",
            "각\n"
          ]
        }
      ]
    },
    {
      "cell_type": "code",
      "source": [
        "# 문자 --> 숫자 --> 이진수 로 변환\n",
        "for c in '파이썬':\n",
        "    숫자변환 = ord(c)              # unicode\n",
        "    이진수변환 = bin(숫자변환)     # 16진수 binarycode\n",
        "    print( 이진수변환, end = ' ')  # 한 줄로 표현하기"
      ],
      "metadata": {
        "id": "_gesbU8AOzJ_"
      },
      "execution_count": null,
      "outputs": []
    },
    {
      "cell_type": "code",
      "source": [
        "for c in '파이썬':\n",
        "    # 이진수에서 앞'0b'를 없애기 위해 format() 함수 사용할 수 있다.\n",
        "    print( format(ord(c), 'b'), end = ' ')  # 한 줄로 표현하기"
      ],
      "metadata": {
        "id": "ZQyZdBeSOzrE"
      },
      "execution_count": null,
      "outputs": []
    },
    {
      "cell_type": "markdown",
      "source": [
        "#### 문자열 따옴표로 지정"
      ],
      "metadata": {
        "id": "xpJdl4QwO55X"
      }
    },
    {
      "cell_type": "code",
      "source": [
        "# 큰 따옴표 or 작은 따옴표로 지정한다\n",
        "print('Hello')\n",
        "print(\"Hello\")\n",
        "print(\"Hello 'world\")\n",
        "print('Hello \"world')\n",
        "print(' \"Yes, I can!\" ')"
      ],
      "metadata": {
        "id": "zl_C1UOnPC8k"
      },
      "execution_count": null,
      "outputs": []
    },
    {
      "cell_type": "code",
      "source": [
        "#따옴표 세 개 사용 : 여러 줄로 표현할 때\n",
        "a = '''박씨가 소리질렀다.\n",
        "도둑이야!'''\n",
        "print(a)"
      ],
      "metadata": {
        "id": "P3Q6389qPDW6"
      },
      "execution_count": null,
      "outputs": []
    },
    {
      "cell_type": "code",
      "source": [
        "menu = '''OOO카페 메뉴판\n",
        "- 아메리카노:  3000원\n",
        "- 카페라테:     4000원\n",
        "- 카페모카:     5000원'''\n",
        "print(menu)\n",
        "coffee = input('주문하실 음료를 입력하세요(ex:아메리카노) => ')\n",
        "cup = input(f'{coffee} 몇 잔을 주문하시겠습니까?: ')\n",
        "\n",
        "print(f'주문하신 음료는 {coffee} {cup} 잔 입니다.')"
      ],
      "metadata": {
        "id": "ZNImZioTPMTF",
        "colab": {
          "base_uri": "https://localhost:8080/"
        },
        "outputId": "cca65e2d-e4f4-46d7-d90e-5f6eeb65c5f1"
      },
      "execution_count": null,
      "outputs": [
        {
          "output_type": "stream",
          "name": "stdout",
          "text": [
            "OOO카페 메뉴판\n",
            "- 아메리카노:  3000원\n",
            "- 카페라테:     4000원\n",
            "- 카페모카:     5000원\n",
            "주문하실 음료를 입력하세요(ex:아메리카노) => 아메리카노\n",
            "아메리카노 몇 잔을 주문하시겠습니까?: 3\n",
            "주문하신 음료는 아메리카노 3 잔 입니다.\n"
          ]
        }
      ]
    },
    {
      "cell_type": "markdown",
      "source": [
        "#### 문자열 연산\n",
        "- (+): 문자열 연결하기\n",
        "- (*) : 반복의 의미"
      ],
      "metadata": {
        "id": "0hueAcbNczkD"
      }
    },
    {
      "cell_type": "code",
      "source": [
        "# 문자열 연결하기\n",
        "print('Hello'+'world')\n",
        "print('Hello','world', '!')\n",
        "\n",
        "a = \"Python\"\n",
        "b = \" is very fun!\"\n",
        "print(a+b)"
      ],
      "metadata": {
        "id": "Z5KLgMT3c5kA"
      },
      "execution_count": null,
      "outputs": []
    },
    {
      "cell_type": "code",
      "source": [
        "# 반복의 의미\n",
        "print('Hello'*3)\n",
        "print('-' * 30)"
      ],
      "metadata": {
        "id": "3CNBVzLJc53l"
      },
      "execution_count": null,
      "outputs": []
    },
    {
      "cell_type": "markdown",
      "source": [
        "### 실습문제 : 문자열 출력하기\n",
        "- 문제1: 화면에   Mary’s cosmetics   출력\n",
        "- 문제2: 화면에  박씨가 소리질렀다. “도둑이야!”.  출력\n",
        "- 문제3: 다음 코드 실행시켜서 \\t와 \\n의 역할 확인하기 <br>\n",
        "print(\"안녕하세요.\\n오늘\\t날씨가\\t\\t좋습니다.\")"
      ],
      "metadata": {
        "id": "zGFtY_D1ckjy"
      }
    },
    {
      "cell_type": "code",
      "source": [
        "print(\"Mary's cosmetics\")\n",
        "print('박씨가 소리를 질렀다.\"도둑이야!!!!!!\"')\n",
        "\n",
        "print('박씨가 소리를 질렀다.\\n\"도둑이야!!!!!!\"')\n"
      ],
      "metadata": {
        "id": "zZAO6RHWpCQ6",
        "colab": {
          "base_uri": "https://localhost:8080/"
        },
        "outputId": "c264f50e-16e3-4696-8bb7-194253669d06"
      },
      "execution_count": null,
      "outputs": [
        {
          "output_type": "stream",
          "name": "stdout",
          "text": [
            "Mary's cosmetics\n",
            "박씨가 소리를 질렀다.\"도둑이야!!!!!!\"\n",
            "박씨가 소리를 질렀다.\n",
            "\"도둑이야!!!!!!\"\n",
            "Mary's cosmetics\n",
            "(박씨가 소리를 질렀다'.\"도둑이야!\")\n"
          ]
        }
      ]
    },
    {
      "cell_type": "markdown",
      "source": [
        "### 실습문제 :  구글TTS(gTTS) 사용하여 음성 출력하기"
      ],
      "metadata": {
        "id": "Hb6l5EjLQB2m"
      }
    },
    {
      "cell_type": "code",
      "source": [
        "# 구글 tts 프로그램\n",
        "!pip install gTTS"
      ],
      "metadata": {
        "id": "-eY--f6MPwTf",
        "colab": {
          "base_uri": "https://localhost:8080/"
        },
        "outputId": "8319b049-c6cd-427d-afec-41d6cc0d825c"
      },
      "execution_count": null,
      "outputs": [
        {
          "output_type": "stream",
          "name": "stdout",
          "text": [
            "Collecting gTTS\n",
            "  Downloading gTTS-2.4.0-py3-none-any.whl (29 kB)\n",
            "Requirement already satisfied: requests<3,>=2.27 in /usr/local/lib/python3.10/dist-packages (from gTTS) (2.31.0)\n",
            "Requirement already satisfied: click<8.2,>=7.1 in /usr/local/lib/python3.10/dist-packages (from gTTS) (8.1.7)\n",
            "Requirement already satisfied: charset-normalizer<4,>=2 in /usr/local/lib/python3.10/dist-packages (from requests<3,>=2.27->gTTS) (3.3.0)\n",
            "Requirement already satisfied: idna<4,>=2.5 in /usr/local/lib/python3.10/dist-packages (from requests<3,>=2.27->gTTS) (3.4)\n",
            "Requirement already satisfied: urllib3<3,>=1.21.1 in /usr/local/lib/python3.10/dist-packages (from requests<3,>=2.27->gTTS) (2.0.6)\n",
            "Requirement already satisfied: certifi>=2017.4.17 in /usr/local/lib/python3.10/dist-packages (from requests<3,>=2.27->gTTS) (2023.7.22)\n",
            "Installing collected packages: gTTS\n",
            "Successfully installed gTTS-2.4.0\n"
          ]
        }
      ]
    },
    {
      "cell_type": "code",
      "source": [],
      "metadata": {
        "id": "n6QC0XNQz1ur"
      },
      "execution_count": null,
      "outputs": []
    },
    {
      "cell_type": "code",
      "source": [
        "# 영어 출력\n",
        "from gtts import gTTS\n",
        "from IPython.display import Audio\n",
        "\n",
        "eng_wav = gTTS('Hello World!')\n",
        "eng_wav.save('eng.wav')\n",
        "\n",
        "display(Audio('eng.wav', autoplay=True))"
      ],
      "metadata": {
        "id": "O_xqpl0pPx6k",
        "colab": {
          "base_uri": "https://localhost:8080/",
          "height": 74
        },
        "outputId": "00991bf5-bafc-47b7-835c-bbf77c32d919"
      },
      "execution_count": null,
      "outputs": [
        {
          "output_type": "display_data",
          "data": {
            "text/plain": [
              "<IPython.lib.display.Audio object>"
            ],
            "text/html": [
              "\n",
              "                <audio  controls=\"controls\" autoplay=\"autoplay\">\n",
              "                    <source src=\"data:audio/x-wav;base64,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\" type=\"audio/x-wav\" />\n",
              "                    Your browser does not support the audio element.\n",
              "                </audio>\n",
              "              "
            ]
          },
          "metadata": {}
        }
      ]
    },
    {
      "cell_type": "code",
      "source": [
        "# 한글 출력\n",
        "from gtts import gTTS\n",
        "from IPython.display import Audio\n",
        "\n",
        "kor_wav = gTTS('안녕하세요! ', lang = 'ko')\n",
        "kor_wav.save('kor.wav')\n",
        "\n",
        "display(Audio('kor.wav', autoplay=True))\n",
        "\n",
        "#gtts 사용법이라고 구글에서 검색해보기!!!"
      ],
      "metadata": {
        "id": "inyZATWlP3Cp",
        "colab": {
          "base_uri": "https://localhost:8080/",
          "height": 74
        },
        "outputId": "e56ff72d-1815-45f8-b800-8fd2bf60e66a"
      },
      "execution_count": null,
      "outputs": [
        {
          "output_type": "display_data",
          "data": {
            "text/plain": [
              "<IPython.lib.display.Audio object>"
            ],
            "text/html": [
              "\n",
              "                <audio  controls=\"controls\" autoplay=\"autoplay\">\n",
              "                    <source src=\"data:audio/x-wav;base64,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\" type=\"audio/x-wav\" />\n",
              "                    Your browser does not support the audio element.\n",
              "                </audio>\n",
              "              "
            ]
          },
          "metadata": {}
        }
      ]
    },
    {
      "cell_type": "code",
      "source": [
        "# 한글 출력\n",
        "from gtts import gTTS\n",
        "from IPython.display import Audio\n",
        "\n",
        "kor_wav = gTTS('kim soohwa! ', lang = 'ko')\n",
        "kor_wav.save('kor.wav')\n",
        "\n",
        "display(Audio('kor.wav', autoplay=True))\n",
        "\n",
        "#gtts 사용법이라고 구글에서 검색해보기!!!"
      ],
      "metadata": {
        "colab": {
          "base_uri": "https://localhost:8080/",
          "height": 74
        },
        "id": "_qeApQDuslcp",
        "outputId": "df8bee45-4a15-43d3-9895-e2d43605b643"
      },
      "execution_count": null,
      "outputs": [
        {
          "output_type": "display_data",
          "data": {
            "text/plain": [
              "<IPython.lib.display.Audio object>"
            ],
            "text/html": [
              "\n",
              "                <audio  controls=\"controls\" autoplay=\"autoplay\">\n",
              "                    <source src=\"data:audio/x-wav;base64,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\" type=\"audio/x-wav\" />\n",
              "                    Your browser does not support the audio element.\n",
              "                </audio>\n",
              "              "
            ]
          },
          "metadata": {}
        }
      ]
    },
    {
      "cell_type": "markdown",
      "source": [
        "### 실습문제 :  파일 읽어 음성으로 출력하기"
      ],
      "metadata": {
        "id": "A5onlk2_pJnX"
      }
    },
    {
      "cell_type": "code",
      "source": [
        "# 파일 읽어서 음성으로 출력하기\n",
        "from gtts import gTTS\n",
        "from IPython.display import Audio\n",
        "\n",
        "with open(\"./오감도.txt\", 'r') as f:\n",
        "    s = f.read()\n",
        "    print(s)\n",
        "\n",
        "kor_wav = gTTS(s, lang = 'ko')\n",
        "kor_wav.save('kor.wav')\n",
        "\n",
        "display(Audio('kor.wav', autoplay=True))\n",
        "\n"
      ],
      "metadata": {
        "id": "LL9LBIfPUS1-"
      },
      "execution_count": null,
      "outputs": []
    },
    {
      "cell_type": "markdown",
      "metadata": {
        "id": "xPW5SM108GGT"
      },
      "source": [
        "### **[문자열 인덱싱과 슬레이싱]**"
      ]
    },
    {
      "cell_type": "code",
      "source": [
        "a = '우리는 민족중흥의 역사적 사명을 띠고 이 땅에 태어났다.'\n",
        "print(a[3:12] )\n",
        "\n",
        "fruits = 'orange'\n",
        "print(fruits[1:3])"
      ],
      "metadata": {
        "id": "SNAFf0-FPTUO"
      },
      "execution_count": null,
      "outputs": []
    },
    {
      "cell_type": "markdown",
      "metadata": {
        "id": "GdjCIoKx8GGT"
      },
      "source": [
        "### 실습문제 : 문자열 거꾸로 출력하기\n",
        "\n",
        "문자열을 입력 받아 거꾸로 출력하는 프로그램을 작성하세요"
      ]
    },
    {
      "cell_type": "code",
      "execution_count": null,
      "metadata": {
        "scrolled": true,
        "id": "xo-ZBQiO8GGT",
        "colab": {
          "base_uri": "https://localhost:8080/"
        },
        "outputId": "9eca4b05-84a3-44d1-8494-c154a1a1ff07"
      },
      "outputs": [
        {
          "output_type": "stream",
          "name": "stdout",
          "text": [
            "문자열을 입력하세요.:안녕\n",
            "거꾸로 출력:녕안\n"
          ]
        }
      ],
      "source": [
        "\n",
        "a=input('문자열을 입력하세요.:')\n",
        "\n",
        " #a[:] 숫자를 안 넣으면 처음부터 끝까지 출력\n",
        "\n",
        "print(f'거꾸로 출력:{a[::-1]}')\n"
      ]
    },
    {
      "cell_type": "markdown",
      "source": [
        "### 실습문제 : 파일명.확장자명 분리하기"
      ],
      "metadata": {
        "id": "PZghIVpIdg-c"
      }
    },
    {
      "cell_type": "code",
      "source": [
        "a = input('확장자가 포함된 파일명을 입력하세요: ')\n",
        "\n",
        "#split 함수 사용하여 작성하기\n",
        "\n",
        "\n"
      ],
      "metadata": {
        "id": "o3CvgoVJdhN0"
      },
      "execution_count": null,
      "outputs": []
    },
    {
      "cell_type": "markdown",
      "source": [
        "### **[변수 활용]**"
      ],
      "metadata": {
        "id": "OSn4MTyNeVJU"
      }
    },
    {
      "cell_type": "markdown",
      "metadata": {
        "id": "3jnglF5x8GGU"
      },
      "source": [
        "#### 실습문제 : 지불할 음식 총 가격 계산하\n",
        "- 음식가격:  4,450 원\n",
        "- 세금: 6.75%\n",
        "- 팁: 15%\n",
        "1. meal 변수를 선언하고 값을 4450으로 지정하세요.\n",
        "2. tax 변수를 생성하고 값으로 6.75%를 소수점 형태로 지정하세요.\n",
        "3. tip 변수를 생성하고 값으로 15%를 소수점 형태로 지정하세요.\n",
        "4. meal의 변수값에 세금을 곱해 meal 변수에 지정하세요.\n",
        "5. 음식값에 tip을 더해 total 변수에 지정하세요.\n",
        "6. total 변수 값을 출력하세요."
      ]
    },
    {
      "cell_type": "code",
      "execution_count": null,
      "metadata": {
        "id": "-us6IUf28GGU",
        "colab": {
          "base_uri": "https://localhost:8080/"
        },
        "outputId": "b4785572-7205-4cff-d937-7dd22c31b0d5"
      },
      "outputs": [
        {
          "output_type": "stream",
          "name": "stdout",
          "text": [
            "음식가격(세금포함): 4750.375\n",
            "지출할 음식가격(팁포함): 5462.93\n"
          ]
        }
      ],
      "source": [
        "\n",
        "\n",
        "\n",
        "meal = 4450\n",
        "tax = 0.0675\n",
        "tip = 0.15\n",
        "meal = meal + (meal * tax)\n",
        "total = meal + (meal * tip)\n",
        "print(f'음식가격(세금포함): {meal}')\n",
        "print(f'지출할 음식가격(팁포함): {round(total, 2)}')\n",
        "\n",
        "\n"
      ]
    },
    {
      "cell_type": "code",
      "source": [
        "meal, tax, tip = 4450, 0.0675, 0.15\n",
        "tax = meal * tax    # 세금으로 내야할 금액\n",
        "meal = meal + tax   # 세금 포함된 음식가격\n",
        "tip = meal * tip    # 팁으로 내야할 금액\n",
        "total = meal + tip  # 내가 지불해야할 총 금액\n",
        "print(f'세금으로 내야할 금액: {tax}')\n",
        "print(f'세금 포함된 음식가격: {meal}')\n",
        "print(f'팁으로 내야할 금액: {tip}')\n",
        "print(f'내가 지불해야할 총 금액: {total}')"
      ],
      "metadata": {
        "colab": {
          "base_uri": "https://localhost:8080/"
        },
        "id": "GYnUuCiJBTQq",
        "outputId": "4d48cf84-58c6-4b92-88f5-f8a17d8329eb"
      },
      "execution_count": null,
      "outputs": [
        {
          "output_type": "stream",
          "name": "stdout",
          "text": [
            "세금으로 내야할 금액: 300.375\n",
            "세금 포함된 음식가격: 4750.375\n",
            "팁으로 내야할 금액: 712.55625\n",
            "내가 지불해야할 총 금액: 5462.93125\n"
          ]
        }
      ]
    },
    {
      "cell_type": "markdown",
      "source": [
        "### 실습문제 : 섭씨온도를 화씨온도로 변환하기\n",
        "- 섭씨 온도 (Celsius): 1 atm에서의 물의 어는점을 0도, 끓는점을 100도로 정한 온도 체계. (°C)\n",
        "- 화씨 온도 (Fahrenheit): 물이 어는 온도는 32도, 물이 끓는 온도는 212도. 180등분. (°F)\n",
        "- 섭씨온도(℃) = (5 / 9) × (℉ - 32)  # Celsius\n",
        "- 화씨온도(℉) = (9 / 5) × ℃ + 32    # Fahrenheit"
      ],
      "metadata": {
        "id": "Csltm-dLetMB"
      }
    },
    {
      "cell_type": "code",
      "execution_count": null,
      "metadata": {
        "id": "3GZB3ozk8GGU"
      },
      "outputs": [],
      "source": [
        "input('섭씨 온도를 입력하세요:.')\n",
        "\n"
      ]
    },
    {
      "cell_type": "code",
      "source": [],
      "metadata": {
        "colab": {
          "base_uri": "https://localhost:8080/"
        },
        "id": "FcrEYWlzFE8A",
        "outputId": "617dbedd-cf95-4fc3-b93e-cdf73e5147a4"
      },
      "execution_count": null,
      "outputs": [
        {
          "output_type": "stream",
          "name": "stdout",
          "text": [
            "거짓\n"
          ]
        }
      ]
    },
    {
      "cell_type": "markdown",
      "metadata": {
        "id": "3UTLuSAp8GGY"
      },
      "source": [
        "--------"
      ]
    },
    {
      "cell_type": "markdown",
      "metadata": {
        "id": "fmU7O8WS8GGY"
      },
      "source": [
        "### **[연산자]**"
      ]
    },
    {
      "cell_type": "markdown",
      "metadata": {
        "id": "eRCyhgwS8GGY"
      },
      "source": [
        "#### 실습문제 :  동전 교환 프로그램\n",
        "동전교환 프로그램을 작성하세요"
      ]
    },
    {
      "cell_type": "code",
      "execution_count": null,
      "metadata": {
        "id": "g8A7ErL78GGY",
        "colab": {
          "base_uri": "https://localhost:8080/"
        },
        "outputId": "52e0e43a-380b-4df9-cf97-f50d5bf29e5d"
      },
      "outputs": [
        {
          "output_type": "stream",
          "name": "stdout",
          "text": [
            "교환할 금액을 입력하세요:4321\n",
            "==================================================\n",
            "500원짜리 ==> 8 개\n",
            "100원짜리 ==> 3 개\n",
            "50원짜리 ==> 0 개\n",
            "10원짜리 ==> 2 개\n",
            "잔돈: 1 원\n"
          ]
        }
      ],
      "source": [
        "money=int(input('교환할 금액을 입력하세요:'))\n",
        "print('='*50)\n",
        "\n",
        "coin_500 =money //500\n",
        "money%=500\n",
        "print('500원짜리 ==>',coin_500,'개')\n",
        "\n",
        "coin_100 =money //100\n",
        "money%=100\n",
        "print('100원짜리 ==>',coin_100,'개')\n",
        "\n",
        "coin_50 =money //50\n",
        "money%=50\n",
        "print('50원짜리 ==>',coin_50, '개')\n",
        "\n",
        "coin_10 =money //10\n",
        "money%=10\n",
        "print('10원짜리 ==>',coin_10, '개')\n",
        "\n",
        "print('잔돈:',money,'원')\n",
        "\n",
        "\n",
        "\n",
        "\n",
        "\n"
      ]
    },
    {
      "cell_type": "code",
      "source": [
        "money=int(input('교환할 금액을 입력하세요:'))\n",
        "print('='*50)\n",
        "\n",
        "coin_500 =money //500\n",
        "\n",
        "print('500원짜리 ==>',coin_500,'개')\n",
        "money%=500\n",
        "\n",
        "coin_100 =money //100\n",
        "money%=100\n",
        "print('100원짜리 ==>',coin_100,'개')\n",
        "\n",
        "coin_50 =money //50\n",
        "money%=50\n",
        "print('50원짜리 ==>',coin_50, '개')\n",
        "\n",
        "coin_10 =money //10\n",
        "money%=10\n",
        "print('10원짜리 ==>',coin_10, '개')\n",
        "\n",
        "print('잔돈:',money,'원')\n"
      ],
      "metadata": {
        "colab": {
          "base_uri": "https://localhost:8080/"
        },
        "id": "TJjgaBJ6LjY3",
        "outputId": "d9d2707a-9a74-412b-d2b3-3854eea13043"
      },
      "execution_count": null,
      "outputs": [
        {
          "output_type": "stream",
          "name": "stdout",
          "text": [
            "교환할 금액을 입력하세요:4321\n",
            "==================================================\n",
            "500원짜리 ==> 8 개\n",
            "100원짜리 ==> 3 개\n",
            "50원짜리 ==> 0 개\n",
            "10원짜리 ==> 2 개\n",
            "잔돈: 1 원\n"
          ]
        }
      ]
    },
    {
      "cell_type": "code",
      "source": [
        "#강사님 코드\n",
        "\n",
        "money = input('동전으로 교환할 금액을 입력하세요: ')\n",
        "print('-'*50)\n",
        "print(f'500원짜리    ==> {int(money)//500} 개')\n",
        "money = int(money) % 500\n",
        "print(f'100원짜리    ==> {money//100} 개')\n",
        "money %= 100   # money = money % 100\n",
        "print(f'50원짜리    ==> {money//50} 개')\n",
        "money %= 50\n",
        "print(f'10원짜리    ==> {money//10} 개')\n",
        "money %= 10\n",
        "print(f'잔돈        ==> {money} 원')"
      ],
      "metadata": {
        "id": "MkCX7Su8JFsJ"
      },
      "execution_count": null,
      "outputs": []
    },
    {
      "cell_type": "markdown",
      "metadata": {
        "id": "rCYXIs248GGY"
      },
      "source": [
        "### **[리스트]**"
      ]
    },
    {
      "cell_type": "markdown",
      "source": [
        "- 리스트는 여러 개의 데이터 값을 하나의 변수에 담을 수 있는 데이터 구조\n",
        "- 리스트는 순서(인덱스)가 있고 데이터를 수정, 삭제, 추가 가능하다.\n",
        "- 대괄호로 표현되고 내부 원소는 ,(쉼표)로 구분됨\n",
        "\n",
        "**리스트 생성 & 삭제**"
      ],
      "metadata": {
        "id": "YumGEyjSfPXF"
      }
    },
    {
      "cell_type": "code",
      "source": [
        "a = list()\n",
        "a = []\n",
        "a = [1,2,3]\n",
        "a = ['I', 'Love', 'Python']\n",
        "b = [1,2, '사랑해요', 'Python']\n",
        "b = ['a', '1', 1, [2,3], -4]\n",
        "a = [1,2,['a','b',['사랑해', '파이썬']], 3]\n",
        "\n",
        "print(a)\n",
        "print(b)\n",
        "\n"
      ],
      "metadata": {
        "id": "7fDp5hT0fhEx",
        "colab": {
          "base_uri": "https://localhost:8080/"
        },
        "outputId": "cd57bb09-cd41-4aa0-acc9-b22942cc59e6"
      },
      "execution_count": null,
      "outputs": [
        {
          "output_type": "stream",
          "name": "stdout",
          "text": [
            "[1, 2, ['a', 'b', ['사랑해', '파이썬']], 3]\n",
            "['a', '1', 1, [2, 3], -4]\n"
          ]
        }
      ]
    },
    {
      "cell_type": "code",
      "source": [
        "# 리스트 삭제\n",
        "del(b)\n",
        "\n",
        "print(a)\n",
        "print(b)\n",
        "\n",
        "#함수 삭제 후 출력할 수 없음"
      ],
      "metadata": {
        "colab": {
          "base_uri": "https://localhost:8080/",
          "height": 273
        },
        "id": "fAQlyIXGNJpo",
        "outputId": "5a08932d-555d-4ffb-82c4-5649c3f5d112"
      },
      "execution_count": null,
      "outputs": [
        {
          "output_type": "stream",
          "name": "stdout",
          "text": [
            "3\n"
          ]
        },
        {
          "output_type": "error",
          "ename": "NameError",
          "evalue": "ignored",
          "traceback": [
            "\u001b[0;31m---------------------------------------------------------------------------\u001b[0m",
            "\u001b[0;31mNameError\u001b[0m                                 Traceback (most recent call last)",
            "\u001b[0;32m<ipython-input-133-ea89d67a0811>\u001b[0m in \u001b[0;36m<cell line: 5>\u001b[0;34m()\u001b[0m\n\u001b[1;32m      3\u001b[0m \u001b[0;34m\u001b[0m\u001b[0m\n\u001b[1;32m      4\u001b[0m \u001b[0mprint\u001b[0m\u001b[0;34m(\u001b[0m\u001b[0ma\u001b[0m\u001b[0;34m)\u001b[0m\u001b[0;34m\u001b[0m\u001b[0;34m\u001b[0m\u001b[0m\n\u001b[0;32m----> 5\u001b[0;31m \u001b[0mprint\u001b[0m\u001b[0;34m(\u001b[0m\u001b[0mb\u001b[0m\u001b[0;34m)\u001b[0m\u001b[0;34m\u001b[0m\u001b[0;34m\u001b[0m\u001b[0m\n\u001b[0m\u001b[1;32m      6\u001b[0m \u001b[0;34m\u001b[0m\u001b[0m\n\u001b[1;32m      7\u001b[0m \u001b[0;31m#함수 삭제 후 출력할 수 없음\u001b[0m\u001b[0;34m\u001b[0m\u001b[0;34m\u001b[0m\u001b[0m\n",
            "\u001b[0;31mNameError\u001b[0m: name 'b' is not defined"
          ]
        }
      ]
    },
    {
      "cell_type": "markdown",
      "source": [
        "**리스트 요소에 접근**"
      ],
      "metadata": {
        "id": "ZDNnr2DrfhbC"
      }
    },
    {
      "cell_type": "code",
      "source": [
        "print( a )\n",
        "print( a[1] )\n",
        "print( a[2] )\n",
        "print( a[2][1] )\n",
        "# '파이썬'을 출력하려면?\n",
        "print( a[2][2][1])\n",
        "#index 2번의 2번째의 1번째\n",
        "\n"
      ],
      "metadata": {
        "id": "dE18h8OHfhzH",
        "colab": {
          "base_uri": "https://localhost:8080/"
        },
        "outputId": "60620817-f9a8-41df-c0df-ca76fff57f69"
      },
      "execution_count": null,
      "outputs": [
        {
          "output_type": "stream",
          "name": "stdout",
          "text": [
            "[1, 2, ['a', 'b', ['사랑해', '파이썬']], 3]\n",
            "2\n",
            "['a', 'b', ['사랑해', '파이썬']]\n",
            "b\n",
            "파이썬\n"
          ]
        }
      ]
    },
    {
      "cell_type": "markdown",
      "source": [
        "**리스트 요소 추가 / 변경**"
      ],
      "metadata": {
        "id": "CBiv_U9vfh9l"
      }
    },
    {
      "cell_type": "code",
      "source": [
        "a= ['가을','여름']\n",
        "print(a)\n",
        "a.append('봄')     # 리스트 맨 끝에 추가\n",
        "print(a)\n",
        "a.insert(1, '봄')  # 리스트명.insert(인덱스위치, 값),특정한 위치에 추가\n",
        "print(a)\n",
        "a.insert(3,'봄')\n",
        "print(a)"
      ],
      "metadata": {
        "id": "i4_2rAyrfiGl",
        "colab": {
          "base_uri": "https://localhost:8080/"
        },
        "outputId": "c56db905-68b1-4f70-a292-b55a6e90f582"
      },
      "execution_count": null,
      "outputs": [
        {
          "output_type": "stream",
          "name": "stdout",
          "text": [
            "['가을', '여름']\n",
            "['가을', '여름', '봄']\n",
            "['가을', '봄', '여름', '봄']\n",
            "['가을', '봄', '여름', '봄', '봄']\n"
          ]
        }
      ]
    },
    {
      "cell_type": "markdown",
      "source": [
        "**리스트 요소 삭제**"
      ],
      "metadata": {
        "id": "k211ATQqf5Ol"
      }
    },
    {
      "cell_type": "code",
      "source": [
        "print(a)\n",
        "a.pop()     # 리스트 맨 끝 요소 삭제\n",
        "print(a)\n",
        "a.remove('봄')  # 리스트명.remove(값), 단 여러 개 일 경우 첫 번째만 삭제됨\n",
        "print(a)"
      ],
      "metadata": {
        "id": "jb18botVf5V-",
        "colab": {
          "base_uri": "https://localhost:8080/"
        },
        "outputId": "2d378a6d-fa37-4e36-b892-4b0320d9318d"
      },
      "execution_count": null,
      "outputs": [
        {
          "output_type": "stream",
          "name": "stdout",
          "text": [
            "['가을', '봄', '여름', '봄', '봄']\n",
            "['가을', '봄', '여름', '봄']\n",
            "['가을', '여름', '봄']\n"
          ]
        }
      ]
    },
    {
      "cell_type": "markdown",
      "source": [
        "### **[딕셔너리]**"
      ],
      "metadata": {
        "id": "DTsiTSprfPtQ"
      }
    },
    {
      "cell_type": "markdown",
      "source": [
        "**딕셔너리 키(key)와 값(value)에 접근하기**"
      ],
      "metadata": {
        "id": "n5XA-oqKgARN"
      }
    },
    {
      "cell_type": "code",
      "source": [
        "scores = {'국어': 100, '수학': 90, '영어': 80}\n",
        "\n",
        "print(scores['국어'])  # 딕셔너리는 키로 접근한다.\n",
        "\n",
        "# 방법1\n",
        "print('---방법1---')\n",
        "for key in scores:\n",
        "    print('%s => %s' % (key, scores[key]))\n",
        "\n",
        "# 방법2\n",
        "print('---방법2---')\n",
        "for key, value in scores.items():\n",
        "    print('%s => %s' % (key, value))"
      ],
      "metadata": {
        "id": "JcVVvEfAgA77",
        "colab": {
          "base_uri": "https://localhost:8080/"
        },
        "outputId": "ceee7245-a2ea-447c-8e63-92959045a2d0"
      },
      "execution_count": null,
      "outputs": [
        {
          "output_type": "stream",
          "name": "stdout",
          "text": [
            "100\n",
            "---방법1---\n",
            "국어 => 100\n",
            "수학 => 90\n",
            "영어 => 80\n",
            "---방법2---\n",
            "국어 => 100\n",
            "수학 => 90\n",
            "영어 => 80\n"
          ]
        }
      ]
    },
    {
      "cell_type": "code",
      "source": [
        "print(scores.keys())   # 키만 추출\n",
        "print(scores.values()) # 키만 추출\n",
        "print(scores.items())  # (키,값)쌍 형태로 추출"
      ],
      "metadata": {
        "id": "yqlgBr22gH_7",
        "colab": {
          "base_uri": "https://localhost:8080/"
        },
        "outputId": "f3a56459-76ed-40aa-841b-258c35f223d2"
      },
      "execution_count": null,
      "outputs": [
        {
          "output_type": "stream",
          "name": "stdout",
          "text": [
            "dict_keys(['국어', '수학', '영어'])\n",
            "dict_values([100, 90, 80])\n",
            "dict_items([('국어', 100), ('수학', 90), ('영어', 80)])\n"
          ]
        }
      ]
    },
    {
      "cell_type": "markdown",
      "source": [
        "**딕셔너리에 요소 추가/수정/삭제**"
      ],
      "metadata": {
        "id": "ZRDlQlqOgBDO"
      }
    },
    {
      "cell_type": "code",
      "source": [
        "# 키로 요소 추가하기\n",
        "scores['music'] = 100\n",
        "print(scores)\n",
        "\n",
        "# 요소 값 수정하기\n",
        "scores['수학'] = 99\n",
        "print(scores)\n",
        "\n",
        "# 요소 삭제하기\n",
        "del (scores['영어'])\n",
        "print(scores)"
      ],
      "metadata": {
        "id": "DVW8BQbAgBKR",
        "colab": {
          "base_uri": "https://localhost:8080/"
        },
        "outputId": "96db9f60-ca94-4af4-fd7d-844d3b6cc6ca"
      },
      "execution_count": null,
      "outputs": [
        {
          "output_type": "stream",
          "name": "stdout",
          "text": [
            "{'국어': 100, '수학': 90, '영어': 80, 'music': 100}\n",
            "{'국어': 100, '수학': 99, '영어': 80, 'music': 100}\n",
            "{'국어': 100, '수학': 99, 'music': 100}\n"
          ]
        }
      ]
    },
    {
      "cell_type": "markdown",
      "metadata": {
        "id": "0SWp1LN08GGY"
      },
      "source": [
        "------"
      ]
    },
    {
      "cell_type": "markdown",
      "metadata": {
        "id": "x4FIhV_y8GGZ"
      },
      "source": [
        "### 2-2. 조건문과 반목문으로 흐름 제어하기"
      ]
    },
    {
      "cell_type": "markdown",
      "metadata": {
        "id": "LPe_skHf8GGZ"
      },
      "source": [
        "### **[조건문]**"
      ]
    },
    {
      "cell_type": "markdown",
      "metadata": {
        "id": "Ar6JKwtB8GGZ"
      },
      "source": [
        "#### 실습문제 : 짝수 홀수 판별하기\n",
        "숫자를 입력 받아 짝수/홀수를 판별하는 코드를 만들어 보세요."
      ]
    },
    {
      "cell_type": "code",
      "execution_count": null,
      "metadata": {
        "id": "09w2BCcN8GGZ",
        "outputId": "8ed6049e-3a38-45f3-b535-484b110748c4",
        "colab": {
          "base_uri": "https://localhost:8080/"
        }
      },
      "outputs": [
        {
          "output_type": "stream",
          "name": "stdout",
          "text": [
            "숫자를 입력해 주세요: 5\n",
            "입력된 수 : 5 ==> 홀수\n"
          ]
        }
      ],
      "source": [
        "x = int(input('숫자를 입력해 주세요: '))\n",
        "\n",
        "if x % 2 == 0:\n",
        "    print('입력된 수 : %d ==> 짝수' % x)\n",
        "else:\n",
        "    print('입력된 수 : %d ==> 홀수' % x)"
      ]
    },
    {
      "cell_type": "markdown",
      "metadata": {
        "id": "kJuobsMS8GGZ"
      },
      "source": [
        "#### 실습문제 : 직각 삼각형 판별하기\n",
        "피타고라스 정리에 의해 직각삼각형의 세 변의 길이에 대한 관계는 아래와 같습니다. 이 정리를 이용하여 세 변의 길이를 입력 받은 삼각형이 직각삼각형인지 아닌지 판별하는 프로그램을 만들어 보세요"
      ]
    },
    {
      "cell_type": "code",
      "execution_count": null,
      "metadata": {
        "id": "YWDF2qmn8GGZ",
        "colab": {
          "base_uri": "https://localhost:8080/"
        },
        "outputId": "26e501bd-c66e-4431-f16c-6c67c25c7ae5"
      },
      "outputs": [
        {
          "output_type": "stream",
          "name": "stdout",
          "text": [
            "첫번째 변의 길이를 적으세요3\n",
            "두번째 변의 길이를 적으세요4\n",
            "세번째 변의 길이를 적으세요7\n",
            "직각삼각형이 아닙니다\n"
          ]
        }
      ],
      "source": [
        "a=int(input('첫번째 변의 길이를 적으세요'))\n",
        "b=int(input('두번째 변의 길이를 적으세요'))\n",
        "c=int(input('세번째 변의 길이를 적으세요'))\n",
        "\n",
        "length = [a,b,c]\n",
        "\n",
        "if length [0]**2+length [1]**2 ==length [2]:\n",
        "  print('직각삼각형 입니다')\n",
        "else:\n",
        "  print('직각삼각형이 아닙니다')\n"
      ]
    },
    {
      "cell_type": "code",
      "source": [
        "#강사님 코드"
      ],
      "metadata": {
        "id": "Guw1dc8uaOGn"
      },
      "execution_count": null,
      "outputs": []
    },
    {
      "cell_type": "markdown",
      "source": [
        "### 실습문제 : 커피 자판기 조건문\n",
        "아래 조건을 만족하는 커피 자동주문 머신을 만들어보세요.<br><br>\n",
        "[커피 자동주문 머신]<br>\n",
        "친구들과 현금 커피 자동주문 머신 앞에서\n",
        " - 아메리카노 2잔과 카페라테 2잔 카푸치노 1잔을 주문하였다.\n",
        " - 아메리카노 한잔에 2500원이고\n",
        " - 카페라테는 한잔에 3000원\n",
        " - 카푸치노는 한잔에 3000원이다.\n",
        "커피 종류와 잔 수를 결정한 후 현금 15000원을 투입하고 잔돈을 1000원 받았다."
      ],
      "metadata": {
        "id": "3SDdg7Aeg7MW"
      }
    },
    {
      "cell_type": "code",
      "source": [
        "menu = '''[커피 자동주문 머신 메뉴]\n",
        "------------------------------------------------------------\n",
        "-아메리카노는 2500원\n",
        "-카레라떼는 3000원\n",
        "-카푸치노는 3000원\n",
        "원하시는 커피종류와 잔수를 입력하세요.\n",
        "------------------------------------------------------------'''\n",
        "print(menu)\n",
        "\n",
        "americano_price = 2500\n",
        "cafelatte_price = 3000\n",
        "cappuccino_price= 3000\n",
        "a= int(input('아메리카노 주문 수량을 적어주세요.:'))\n",
        "b=int(input('카페라떼 주문 수량을 적어주세요.:'))\n",
        "c=int(input('카푸치노 주문 수량을 적어주세요.:'))\n",
        "\n",
        "total_price=(americano_price*a)+(cafelatte_price*b)+(cappuccino_price*c)\n",
        "\n",
        "\n",
        "print(f'지불할 총 금액은:{total_price}','원')\n",
        "\n",
        "cash=int(input('돈을 넣어주세요.:'))\n",
        "\n",
        "change=(cash)-(total_price)\n",
        "\n",
        "\n",
        "\n",
        "while change < 0:\n",
        "    print(f'결제금액이 {change}원 부족합니다.')\n",
        "    minus = int(input('추가로 낸 금액을 적어주세요: '))\n",
        "    cash += minus\n",
        "    change = cash - total_price\n",
        "\n",
        "print(f'잔돈: {change}원')"
      ],
      "metadata": {
        "id": "BZlOMJHKg7dN",
        "colab": {
          "base_uri": "https://localhost:8080/"
        },
        "outputId": "d8a86dd8-7f01-46a2-e07c-a0ca6dcf316b"
      },
      "execution_count": 10,
      "outputs": [
        {
          "output_type": "stream",
          "name": "stdout",
          "text": [
            "[커피 자동주문 머신 메뉴]\n",
            "------------------------------------------------------------\n",
            "-아메리카노는 2500원\n",
            "-카레라떼는 3000원\n",
            "-카푸치노는 3000원\n",
            "원하시는 커피종류와 잔수를 입력하세요.\n",
            "------------------------------------------------------------\n",
            "아메리카노 주문 수량을 적어주세요.:2\n",
            "카페라떼 주문 수량을 적어주세요.:2\n",
            "카푸치노 주문 수량을 적어주세요.:1\n",
            "총 합계:14000 원\n",
            "돈을 적어주세요.:15000\n",
            "잔돈: 1000원\n"
          ]
        }
      ]
    },
    {
      "cell_type": "code",
      "source": [],
      "metadata": {
        "id": "2bJLaH5k3cX7"
      },
      "execution_count": null,
      "outputs": []
    },
    {
      "cell_type": "code",
      "source": [
        "#강사님 코드\n",
        "coffee1_price = 2500\n",
        "coffee2_price = 3000\n",
        "coffee3_price = 3000\n",
        "menu = f'''[커피 자동주무 머신 메뉴]\n",
        "--------------------------------\n",
        "- 아메리카노 한잔에 {coffee1_price}원\n",
        "- 카페라테는 한잔에 {coffee2_price}원\n",
        "- 카푸치노는 한잔에 {coffee3_price}원\n",
        "원하시는 커피 종류와 잔수를 입력하세요.\n",
        "--------------------------------'''\n",
        "print(menu)\n",
        "coffee1 = int(input('아메리카노 몇잔: '))\n",
        "coffee2 = int(input('카페라테   몇잔: '))\n",
        "coffee3 = int(input('카푸치노   몇잔: '))\n",
        "total = coffee1_price*coffee1 + coffee2_price*coffee2 \\\n",
        "                +coffee3_price*coffee3\n",
        "print(f'지불할 총 금액은 {total} 원 입니다.')\n",
        "\n",
        "money = int(input('돈을 넣어주세요: '))\n",
        "\n",
        "if money < total:\n",
        "    print(f'금액이 부족합니다. {total - money} 원을 더 넣어주세요.')\n",
        "else:\n",
        "    print(f'잔돈은 {money - total} 원 입니다.')\n",
        "    print('커피 맛있게 드세요~~~~')"
      ],
      "metadata": {
        "id": "kUtD6vwXRf35"
      },
      "execution_count": null,
      "outputs": []
    },
    {
      "cell_type": "markdown",
      "source": [
        "#### if와 else 문장을 --> elif 문장으로 변환하기"
      ],
      "metadata": {
        "id": "Q31ZlqMchT2f"
      }
    },
    {
      "cell_type": "code",
      "source": [
        "# if, else 문장\n",
        "pocket = ['paper', 'handphone']\n",
        "card = True\n",
        "\n",
        "if 'money' in pocket: #in 멤버쉽 연산자\n",
        "    print('택시를 타고 가세요')\n",
        "else:\n",
        "    if card:\n",
        "        print('택시를 타고 가세요')\n",
        "    else:\n",
        "        print('걸어서 가세요')"
      ],
      "metadata": {
        "id": "9m8hAaSMhUId"
      },
      "execution_count": null,
      "outputs": []
    },
    {
      "cell_type": "code",
      "source": [
        "# if elif 문장\n",
        "pocket = ['paper', 'handphone']\n",
        "card = True\n",
        "\n",
        "if 'money' in pocket:\n",
        "    print('택시를 타고 가세요')\n",
        "elif card:\n",
        "    print('택시를 타고 가세요')\n",
        "else:\n",
        "    print('걸어서 가세요')"
      ],
      "metadata": {
        "id": "JGZXfbdNhgJN"
      },
      "execution_count": null,
      "outputs": []
    },
    {
      "cell_type": "markdown",
      "source": [
        "#### 조건부 표현식"
      ],
      "metadata": {
        "id": "Io13oQKLhgph"
      }
    },
    {
      "cell_type": "code",
      "source": [
        "score = int(input('점수를 입력하세요: '))\n",
        "message = \"success!\" if score >=60 else \"failure!\"\n",
        "print(message)"
      ],
      "metadata": {
        "id": "h0V6WqWchnTA",
        "colab": {
          "base_uri": "https://localhost:8080/"
        },
        "outputId": "07cafaec-0a14-4aff-b02c-2d0c7d508f00"
      },
      "execution_count": 14,
      "outputs": [
        {
          "output_type": "stream",
          "name": "stdout",
          "text": [
            "점수를 입력하세요: 54\n",
            "failure!\n"
          ]
        }
      ]
    },
    {
      "cell_type": "code",
      "source": [
        "#짝수 홀수 판별하기 한줄 작성\n",
        "a = int(input('정수를 입력하세요: '))\n",
        "number='짝수'if a % 2==0 else \"홀수\"\n",
        "print(number)\n",
        "\n",
        "\n",
        "#강사님 코드\n",
        "# 짝수 홀수 판별하기\n",
        "x = int(input('판별할 숫자를 입력하세요: '))\n",
        "print(f'숫자 {x}는 짝수!') if x%2==0 else  print(f'숫자 {x}는 홀수!')\n"
      ],
      "metadata": {
        "colab": {
          "base_uri": "https://localhost:8080/"
        },
        "id": "CR7LtMvOJ3pO",
        "outputId": "c3148cea-a524-4d8b-f848-8c1f66ba652f"
      },
      "execution_count": 20,
      "outputs": [
        {
          "output_type": "stream",
          "name": "stdout",
          "text": [
            "정수를 입력하세요: 9\n",
            "홀수\n"
          ]
        }
      ]
    },
    {
      "cell_type": "markdown",
      "metadata": {
        "id": "4RoolGBF8GGa"
      },
      "source": [
        "------"
      ]
    },
    {
      "cell_type": "markdown",
      "metadata": {
        "id": "G2T6Nybt8GGa"
      },
      "source": [
        "### **[반복문-for]**"
      ]
    },
    {
      "cell_type": "markdown",
      "metadata": {
        "id": "HuWJNA-T8GGa"
      },
      "source": [
        "#### 실습문제 : 1~N까지 합계 구하기\n",
        "숫자를 입력받아 1~n까지의 합을 구할 때 짝수를 제외하고 합을 구하는 프로그램을 만들어 보세요."
      ]
    },
    {
      "cell_type": "code",
      "source": [
        "## for 반복문\n",
        "for 변수 in 유한개수(반복):\n",
        "# 유한개수(반복)  사용할 수 있는 것들\n",
        "range(시작, 종료, 증감분)함수\n",
        "for x in range(0,3,1):  # 정수발생 range()함수 사용\n",
        "    print(f'{x} 안녕하세요!')\n"
      ],
      "metadata": {
        "colab": {
          "base_uri": "https://localhost:8080/",
          "height": 146
        },
        "id": "SClY98r0QRTq",
        "outputId": "9e424d69-4b94-4fe0-f72d-02a03a02011c"
      },
      "execution_count": 30,
      "outputs": [
        {
          "output_type": "error",
          "ename": "IndentationError",
          "evalue": "ignored",
          "traceback": [
            "\u001b[0;36m  File \u001b[0;32m\"<ipython-input-30-d5bd5e123f8f>\"\u001b[0;36m, line \u001b[0;32m4\u001b[0m\n\u001b[0;31m    range(시작, 종료, 증감분)함수\u001b[0m\n\u001b[0m    ^\u001b[0m\n\u001b[0;31mIndentationError\u001b[0m\u001b[0;31m:\u001b[0m expected an indented block after 'for' statement on line 2\n"
          ]
        }
      ]
    },
    {
      "cell_type": "code",
      "source": [
        "for i in range(0,3,1):\n",
        "  print(f'{i} 안녕하세요')\n",
        "\n",
        "for j in range(10,21,2):\n",
        "  print(f'{j} 안녕하세요')"
      ],
      "metadata": {
        "id": "M2qXt5EaTaYf"
      },
      "execution_count": null,
      "outputs": []
    },
    {
      "cell_type": "code",
      "source": [
        "2. 문자열\n",
        "a = '오렌지'\n",
        "for x in a:   # 문자열 사용\n",
        "    print(x)"
      ],
      "metadata": {
        "colab": {
          "base_uri": "https://localhost:8080/"
        },
        "id": "62QNSbUZRRSo",
        "outputId": "bfca280d-5aca-4996-f6f4-dfc1ce57acdd"
      },
      "execution_count": 28,
      "outputs": [
        {
          "output_type": "stream",
          "name": "stdout",
          "text": [
            "사\n",
            "과\n"
          ]
        }
      ]
    },
    {
      "cell_type": "code",
      "source": [
        "a=['사과','배']"
      ],
      "metadata": {
        "id": "AsoCCTfRSTPB"
      },
      "execution_count": null,
      "outputs": []
    },
    {
      "cell_type": "code",
      "source": [
        "3. 리스트와 같은 유한 개 자료형\n",
        "a = ['사과', '배', '포도', '샤인머스켓']\n",
        "for x in a:   # 리스트 사용\n",
        "    print(f'내가 좋아하는 과일은 {x}')"
      ],
      "metadata": {
        "id": "8zQca82KTDYy"
      },
      "execution_count": null,
      "outputs": []
    },
    {
      "cell_type": "code",
      "source": [
        "# enumerate() : 인덱스 정보를 준다.\n",
        "a = ['사과', '배', '포도', '샤인머스켓']\n",
        "for idx, x in enumerate(a):   # 리스트 사용\n",
        "    print(f'{idx} 내가 좋아하는 과일은 {x}')"
      ],
      "metadata": {
        "id": "WPCZ6RZiTm8F"
      },
      "execution_count": null,
      "outputs": []
    },
    {
      "cell_type": "code",
      "execution_count": 39,
      "metadata": {
        "id": "t4NbQOOe8GGa",
        "colab": {
          "base_uri": "https://localhost:8080/"
        },
        "outputId": "83d33ae1-ef94-469d-ab37-cf365ab1d023"
      },
      "outputs": [
        {
          "output_type": "stream",
          "name": "stdout",
          "text": [
            "양의 정수n을 입력하세요:3\n",
            "1부터 3까지 짝수를 제외한 합은 4 입니다.\n"
          ]
        }
      ],
      "source": [
        "n=int(input('양의 정수n을 입력하세요:'))\n",
        "\n",
        "hap=0\n",
        "\n",
        "for a in range(1,n+1):\n",
        "    if a % 2 ==1:\n",
        "      hap= hap+a\n",
        "\n",
        "\n",
        "print(f\"1부터 {n}까지 짝수를 제외한 합은 {hap} 입니다.\")\n",
        "\n",
        "\n",
        "\n"
      ]
    },
    {
      "cell_type": "code",
      "source": [
        "#강사님 코드\n",
        "n=int(input('양의 정수 n을 입력해주세요'))\n",
        "hap=0\n",
        "\n",
        "for i in range(1,n+1,1):\n",
        "  hap=hap+i\n",
        "\n",
        "\n",
        "print(f\"1부터 {n}까지 짝수를 제외한 합은 {hap} 입니다.\")"
      ],
      "metadata": {
        "colab": {
          "base_uri": "https://localhost:8080/"
        },
        "id": "QGr_qe5OU9TI",
        "outputId": "62623de5-eb3c-410b-e25d-4666533a1437"
      },
      "execution_count": 36,
      "outputs": [
        {
          "output_type": "stream",
          "name": "stdout",
          "text": [
            "양의 정수 n을 입력해주세요3\n",
            "1부터 3까지 짝수를 제외한 합은 6 입니다.\n"
          ]
        }
      ]
    },
    {
      "cell_type": "markdown",
      "source": [
        "### [실습문제] turtle로 정오각형 그리기\n",
        "#### 주의! : turtle은 가능한 IDLE 또는 에디터에서 사용한다.\n",
        "Turtle 이용해서 정오각형을 그리는 코드이다. 이것을 for 반복문을 이용하여 코드를 줄여보세요."
      ],
      "metadata": {
        "id": "h93aJfzOiJEc"
      }
    },
    {
      "cell_type": "code",
      "source": [
        "import turtle\n",
        "\n",
        "t=turtle.Pen()    # 펜블럭\n",
        "# t.shape('turtle') # 커서 모양\n",
        "# t.color('red')    # 선 색생\n",
        "# t.pensize(5)      # 선 굵기\n",
        "\n",
        "t.forward(100)\n",
        "t.right(72)\n",
        "t.forward(100)\n",
        "t.right(72)\n",
        "t.forward(100)\n",
        "t.right(72)\n",
        "t.forward(100)\n",
        "t.right(72)\n",
        "t.forward(100)\n",
        "t.right(72)\n",
        "\n",
        "turtle.exitonclick()"
      ],
      "metadata": {
        "id": "Qb9JdImXiJQ8"
      },
      "execution_count": null,
      "outputs": []
    },
    {
      "cell_type": "code",
      "source": [
        "import turtle\n",
        "\n",
        "t=turtle.Pen()    # 펜블럭\n",
        "\n",
        "t.shape('turtle') # 커서 모양\n",
        "t.color('blue')    # 선 색생\n",
        "t.pensize(5)      # 선 굵기\n",
        "\n",
        "for i in range(5):\n",
        "    t.forward(100)\n",
        "    t.right(360/5)\n",
        "\n",
        "turtle.exitonclick()"
      ],
      "metadata": {
        "id": "NvZvK4qiiQCS"
      },
      "execution_count": null,
      "outputs": []
    },
    {
      "cell_type": "code",
      "source": [
        "#벌집 그리기\n",
        "import turtle\n",
        "\n",
        "t=turtle.Turtle()\n",
        "t.up() #펜 올리기\n",
        "t.goto(-30, 50)#좌표로 이동하기\n",
        "t.down()#펜 내리기\n",
        "\n",
        "def honeycomb(): # 벌집 그리기\n",
        "    for i in range(6):\n",
        "        for _ in range(6):\n",
        "            t.forward(100)\n",
        "            t.left(60)\n",
        "        t.forward(100)\n",
        "        t.right(60)\n",
        "\n",
        "honeycomb()\n",
        "turtle.exitonclick()"
      ],
      "metadata": {
        "id": "yB44V9CfiTUa"
      },
      "execution_count": null,
      "outputs": []
    },
    {
      "cell_type": "code",
      "source": [
        "# 마우스로 클릭한 위치에 별 그리기\n",
        "import turtle\n",
        "t = turtle.Turtle()\n",
        "\n",
        "t.speed(0)  # 0: 그리기 속도 가장 빠르게\n",
        "t.screen.bgcolor('black')\n",
        "t.color('yellow') # (거북이)그리기 색상 노랑\n",
        "t.clear()         # 화면 지우기\n",
        "t.penup()\n",
        "\n",
        "# 별 그리기\n",
        "def drawStar(x, y):\n",
        "    t.goto(x, y)\n",
        "    t.pendown()\n",
        "    t.begin_fill()\n",
        "    for _ in range(5):\n",
        "        t.forward(20)\n",
        "        t.right(144)\n",
        "    t.end_fill()\n",
        "    t.penup()\n",
        "\n",
        "# 마우스로 화면 클릭하기\n",
        "turtle.onscreenclick(drawStar)\n",
        "t.ht()\n",
        "\n",
        "# 화면에 포커스가 있는 상태 유지하기\n",
        "turtle.done()"
      ],
      "metadata": {
        "id": "crtkrhFLiaEz"
      },
      "execution_count": null,
      "outputs": []
    },
    {
      "cell_type": "code",
      "source": [
        "!pip install ColabTurtle"
      ],
      "metadata": {
        "colab": {
          "base_uri": "https://localhost:8080/"
        },
        "id": "FF1XcnYpc-bw",
        "outputId": "e1829d35-790a-42d8-be4e-9eeea836b16b"
      },
      "execution_count": 40,
      "outputs": [
        {
          "output_type": "stream",
          "name": "stdout",
          "text": [
            "Collecting ColabTurtle\n",
            "  Downloading ColabTurtle-2.1.0.tar.gz (6.8 kB)\n",
            "  Preparing metadata (setup.py) ... \u001b[?25l\u001b[?25hdone\n",
            "Building wheels for collected packages: ColabTurtle\n",
            "  Building wheel for ColabTurtle (setup.py) ... \u001b[?25l\u001b[?25hdone\n",
            "  Created wheel for ColabTurtle: filename=ColabTurtle-2.1.0-py3-none-any.whl size=7641 sha256=b498c743806c42ab82594f5c614a02f46f4c6a520579e8e49d097117bcf5ec09\n",
            "  Stored in directory: /root/.cache/pip/wheels/5b/86/e8/54f5c8c853606e3a3060bb2e60363cbed632374a12e0f33ffc\n",
            "Successfully built ColabTurtle\n",
            "Installing collected packages: ColabTurtle\n",
            "Successfully installed ColabTurtle-2.1.0\n"
          ]
        }
      ]
    },
    {
      "cell_type": "code",
      "source": [
        "import ColabTurtle.turtle\n",
        "t = turtle.Turtle()\n",
        "\n",
        "t.speed(0)  # 0: 그리기 속도 가장 빠르게\n",
        "t.screen.bgcolor('black')\n",
        "t.color('yellow') # (거북이)그리기 색상 노랑\n",
        "t.clear()         # 화면 지우기\n",
        "t.penup()\n",
        "\n",
        "# 별 그리기\n",
        "def drawStar(x, y):\n",
        "    t.goto(x, y)\n",
        "    t.pendown()\n",
        "    t.begin_fill()\n",
        "    for _ in range(5):\n",
        "        t.forward(20)\n",
        "        t.right(144)\n",
        "    t.end_fill()\n",
        "    t.penup()\n",
        "\n",
        "# 마우스로 화면 클릭하기\n",
        "turtle.onscreenclick(drawStar)\n",
        "t.ht()\n",
        "\n",
        "# 화면에 포커스가 있는 상태 유지하기\n",
        "turtle.done()"
      ],
      "metadata": {
        "id": "-C53T4obdQEj"
      },
      "execution_count": null,
      "outputs": []
    },
    {
      "cell_type": "markdown",
      "source": [
        "### **[반복문-while]**"
      ],
      "metadata": {
        "id": "bIFYG9GZi1au"
      }
    },
    {
      "cell_type": "code",
      "execution_count": null,
      "metadata": {
        "scrolled": true,
        "id": "3AUjxAga8GGb",
        "outputId": "d3b87194-0c31-48cd-a3f0-0cd141cd4e77"
      },
      "outputs": [
        {
          "name": "stdout",
          "output_type": "stream",
          "text": [
            "더할 첫 번째 숫자: 10\n",
            "더할 두 번째 숫자: 20\n",
            "10 + 20 = 30\n",
            "더할 첫 번째 숫자: 55\n",
            "더할 두 번째 숫자: 30\n",
            "55 + 30 = 85\n",
            "더할 첫 번째 숫자: 0\n",
            "0을 입력해서 반복문을 탈출했습니다.\n"
          ]
        }
      ],
      "source": [
        "num1, num2 = 0, 0\n",
        "\n",
        "while True:\n",
        "    num1 = int(input(\"더할 첫 번째 숫자: \"))\n",
        "    if num1 == 0:\n",
        "        break\n",
        "    num2 = int(input(\"더할 두 번째 숫자: \"))\n",
        "\n",
        "    print(f'{num1} + {num2} = {num1 + num2}')\n",
        "\n",
        "print(\"0을 입력해서 반복문을 탈출했습니다.\")\n"
      ]
    },
    {
      "cell_type": "markdown",
      "source": [
        "### 실습문제 : 나무 열 번 찍어 넘기기"
      ],
      "metadata": {
        "id": "p7P0Vy-XjIBz"
      }
    },
    {
      "cell_type": "code",
      "source": [
        "\n",
        "treehit = 0\n",
        "\n",
        "while treehit < 10:\n",
        "   print(f\"나무를 {treehit}번 찍었습니다.\")\n",
        "   treehit += 1\n",
        "    if treehit == 10:\n",
        "        print(\"나무가 넘어갑니다!\")\n",
        "\n"
      ],
      "metadata": {
        "id": "A1OSHn1tjNE5",
        "colab": {
          "base_uri": "https://localhost:8080/",
          "height": 146
        },
        "outputId": "2cff7c99-656b-4887-fe32-624366761a73"
      },
      "execution_count": 43,
      "outputs": [
        {
          "output_type": "error",
          "ename": "IndentationError",
          "evalue": "ignored",
          "traceback": [
            "\u001b[0;36m  File \u001b[0;32m\"<ipython-input-43-ae4e16ace19f>\"\u001b[0;36m, line \u001b[0;32m6\u001b[0m\n\u001b[0;31m    if treehit == 10:\u001b[0m\n\u001b[0m    ^\u001b[0m\n\u001b[0;31mIndentationError\u001b[0m\u001b[0;31m:\u001b[0m unexpected indent\n"
          ]
        }
      ]
    },
    {
      "cell_type": "code",
      "source": [
        "treehit = 0\n",
        "\n",
        "while treehit < 10:\n",
        "  treehit += 1\n",
        "  print(f\"나무를 {treehit}번 찍었습니다.\")\n",
        "  if treehit == 10:\n",
        "    print(\"나무가 넘어갑니다!~~~~\")"
      ],
      "metadata": {
        "colab": {
          "base_uri": "https://localhost:8080/"
        },
        "id": "oq_JUZVIgRkn",
        "outputId": "d5cc5053-30eb-41cc-f09f-d4e984a3984f"
      },
      "execution_count": 50,
      "outputs": [
        {
          "output_type": "stream",
          "name": "stdout",
          "text": [
            "나무를 1번 찍었습니다.\n",
            "나무를 2번 찍었습니다.\n",
            "나무를 3번 찍었습니다.\n",
            "나무를 4번 찍었습니다.\n",
            "나무를 5번 찍었습니다.\n",
            "나무를 6번 찍었습니다.\n",
            "나무를 7번 찍었습니다.\n",
            "나무를 8번 찍었습니다.\n",
            "나무를 9번 찍었습니다.\n",
            "나무를 10번 찍었습니다.\n",
            "나무가 넘어갑니다!~~~~\n"
          ]
        }
      ]
    },
    {
      "cell_type": "markdown",
      "metadata": {
        "id": "xLogGjPX8GGb"
      },
      "source": [
        "#### 실습문제: 무한 반복 빠져나오기\n",
        "무한 반복문을 빠져나오기 위한 프로그램을 만들어 보세요"
      ]
    },
    {
      "cell_type": "code",
      "execution_count": null,
      "metadata": {
        "id": "yq1VvWQb8GGb"
      },
      "outputs": [],
      "source": [
        "prompt = \"\"\"\n",
        "    1.Add   2.Del   3.Modify   4.Quit\n",
        "\n",
        "    Enter number: \"\"\"   # 1.코드를 실행하면 출력되는 부분\n",
        "\n",
        "number = 0\n",
        "\n",
        "\n",
        "\n",
        "\n"
      ]
    },
    {
      "cell_type": "markdown",
      "metadata": {
        "id": "H3QS9PpM8GGb"
      },
      "source": [
        "#### 실습문제\n",
        "공을 일정 높이에서 던졌을 때, 원래 높이의 1/2만큼 튀어 오른다고 합니다. 그러다가 높이가 0.00001m보다 낮으면 튀어오르지 않는다고 합니다. while문을 이용하여 이 프로그램을 만들어 보세요."
      ]
    },
    {
      "cell_type": "code",
      "source": [
        "length = int(input('공의 높이를 입력하세요(meter) : '))\n",
        "cnt, meter = 0, length\n",
        "while True:\n",
        "    cnt += 1    # 바닦에 닿았다.\n",
        "    meter /= 2  # 길이가 1/2으로 줄어든다.\n",
        "    if meter < 0.00001:\n",
        "        break\n",
        "print(f'{length} 위치에서 떨어진 공은 {cnt} 번 튕겼습니다.')\n"
      ],
      "metadata": {
        "id": "DUPZz7PAQmEK",
        "colab": {
          "base_uri": "https://localhost:8080/"
        },
        "outputId": "223d7a07-4f27-49c0-b760-2b63fab83098"
      },
      "execution_count": 60,
      "outputs": [
        {
          "output_type": "stream",
          "name": "stdout",
          "text": [
            "공의 높이를 입력하세요(meter) : 50\n",
            "50위치에서 공의 튕긴 횟수는 총 23번 입니다.\n"
          ]
        }
      ]
    },
    {
      "cell_type": "code",
      "source": [
        "length = int(input('공의 높이를 입력하세요(meter) : '))\n",
        "cnt, meter = 0, length\n",
        "while meter >= 0.00001:\n",
        "    cnt += 1    # 바닦에 닿았다.\n",
        "    meter /= 2  # 길이가 1/2으로 줄어든다.\n",
        "print(f'{length} 위치에서 떨어진 공은 {cnt} 번 튕겼습니다.')"
      ],
      "metadata": {
        "id": "rBhTSudkz0SK"
      },
      "execution_count": null,
      "outputs": []
    },
    {
      "cell_type": "markdown",
      "metadata": {
        "id": "bBpYo7he8GGc"
      },
      "source": [
        "#### 실습문제 : 도둑잡기 게임 만들기\n",
        "경찰에 쫓기던 범인이 3개의 방 중에 한 곳에 숨어버렸습니다. 범인은 방문을 열 때마다 무작위로 3개의 방 중 하나의 방으로 이동합니다. 3개의 방 중 하나의 방을 선택했을 때 범인이 있다면 100점, 없을 때 -10점을 부여하고 범인을 잡으면 게임을 종료하는 프로그램을 만들어 보세요."
      ]
    },
    {
      "cell_type": "code",
      "execution_count": 64,
      "metadata": {
        "id": "Yjs0Tp0m8GGc",
        "colab": {
          "base_uri": "https://localhost:8080/",
          "height": 146
        },
        "outputId": "b6b8ff83-d34e-4df9-ba03-062f5d18872b"
      },
      "outputs": [
        {
          "output_type": "error",
          "ename": "SyntaxError",
          "evalue": "ignored",
          "traceback": [
            "\u001b[0;36m  File \u001b[0;32m\"<ipython-input-64-3a312ffe7ee7>\"\u001b[0;36m, line \u001b[0;32m10\u001b[0m\n\u001b[0;31m    choice_number=int(input'방 번호를 선택하세요,(1,2,3):')\u001b[0m\n\u001b[0m                           ^\u001b[0m\n\u001b[0;31mSyntaxError\u001b[0m\u001b[0;31m:\u001b[0m invalid syntax\n"
          ]
        }
      ],
      "source": [
        "\n",
        "import random\n",
        "score = 0\n",
        "\n",
        "while True:  # 무한반복\n",
        "    # 1.무작위로 범인 방 배치\n",
        "  room=random.randint(1,3)\n",
        "\n",
        "\n",
        "    # 2.사용자로부터 방 번호 입력 받기\n",
        "  choice_number=int(input'방 번호를 선택하세요,(1,2,3):')\n",
        "\n",
        "\n",
        "\n",
        "    # 3.사용자가 입력한 방 번호와 범인이 있는 방 비교\n",
        "  if room==choice_number:\n",
        "    print(\"범인체포\")\n",
        "    score+=100\n",
        "    bresk\n",
        "  else:\n",
        "    print('범인이 있는 방이 아닙니다')\n",
        "    score-=10\n",
        "\n",
        "\n",
        "print('게임 종료!')        # 게임 종료 메시지 출력\n",
        "print(f'점수: {score} 점') # 최종 점수 출력"
      ]
    },
    {
      "cell_type": "code",
      "source": [
        "#강사님 코드\n",
        "mport random\n",
        "score = 0\n",
        "\n",
        "while True:  # 무한반복\n",
        "    # 1.무작위로 범인 방 배치\n",
        "    room = random.randint(1,3)  # 1~3번 중 임의의 정수\n",
        "\n",
        "    # 2.사용자로부터 방 번호 입력 받기\n",
        "    n = int(input('방 번호를 입력하세요: '))\n",
        "\n",
        "    # 3.사용자가 입력한 방 번호와 범인이 있는 방 비교\n",
        "    if room == n:\n",
        "        print('범인 체포!!!')\n",
        "        score += 100\n",
        "        break\n",
        "    else:\n",
        "        print('범인이 있는 방이 아닙니다. 다시 선택하세요.')\n",
        "        score -= 10\n",
        "    print('---------------')\n",
        "\n",
        "print('게임 종료!')        # 게임 종료 메시지 출력\n",
        "print(f'점수: {score} 점') # 최종 점수 출력\n",
        "\n"
      ],
      "metadata": {
        "id": "xzBayERd3B0o"
      },
      "execution_count": null,
      "outputs": []
    },
    {
      "cell_type": "markdown",
      "source": [
        "### 실습문제 :  커피 자동주문 프로그램 업그레이드\n",
        "앞에서 만들어 본 커피 자동주문 머신 프로그램을 while문을 이용하여 돈을 모두 지불할 때까지 돈을 입력 받도록 프로그램 기능 수정하기"
      ],
      "metadata": {
        "id": "iPCnjI9UkoHr"
      }
    },
    {
      "cell_type": "code",
      "source": [
        "#강사님 코드\n",
        "coffee1_price = 2500\n",
        "coffee2_price = 3000\n",
        "coffee3_price = 3000\n",
        "menu = f'''[커피 자동주무 머신 메뉴]\n",
        "--------------------------------\n",
        "- 아메리카노 한잔에 {coffee1_price}원\n",
        "- 카페라테는 한잔에 {coffee2_price}원\n",
        "- 카푸치노는 한잔에 {coffee3_price}원\n",
        "원하시는 커피 종류와 잔수를 입력하세요.\n",
        "--------------------------------'''\n",
        "print(menu)\n",
        "coffee1 = int(input('아메리카노 몇잔: '))\n",
        "coffee2 = int(input('카페라테   몇잔: '))\n",
        "coffee3 = int(input('카푸치노   몇잔: '))\n",
        "total = coffee1_price*coffee1 + coffee2_price*coffee2 \\\n",
        "                +coffee3_price*coffee3\n",
        "print(f'지불할 총 금액은 {total} 원 입니다.')\n",
        "\n",
        "while True:\n",
        "    print('-' * 50)\n",
        "    money = int(input('돈을 넣어주세요: '))\n",
        "\n",
        "    change = total - money  # 필요한 금액\n",
        "\n",
        "    if change > 0:\n",
        "        print(f'금액이 부족합니다. {change} 원을 더 넣어주세요.')\n",
        "        total = change\n",
        "    else:\n",
        "        print(f'잔돈은 {abs(change)} 원 입니다.')\n",
        "        print('커피 맛있게 드세요~~~~')\n",
        "        break\n",
        "print('----------------끝!')\n"
      ],
      "metadata": {
        "id": "HtKho6P3kxtS",
        "colab": {
          "base_uri": "https://localhost:8080/",
          "height": 509
        },
        "outputId": "0c5623d3-db14-4650-d637-4288851210da"
      },
      "execution_count": 67,
      "outputs": [
        {
          "output_type": "stream",
          "name": "stdout",
          "text": [
            "[커피 자동주무 머신 메뉴]\n",
            "--------------------------------\n",
            "- 아메리카노 한잔에 2500원\n",
            "- 카페라테는 한잔에 3000원\n",
            "- 카푸치노는 한잔에 3000원\n",
            "원하시는 커피 종류와 잔수를 입력하세요.\n",
            "--------------------------------\n",
            "아메리카노 몇잔: 2\n",
            "카페라테   몇잔: 2\n",
            "카푸치노   몇잔: 1\n",
            "지불할 총 금액은 14000 원 입니다.\n",
            "--------------------------------------------------\n",
            "돈을 넣어주세요: 10000\n",
            "커피 맛있게 드세요\n"
          ]
        },
        {
          "output_type": "error",
          "ename": "NameError",
          "evalue": "ignored",
          "traceback": [
            "\u001b[0;31m---------------------------------------------------------------------------\u001b[0m",
            "\u001b[0;31mNameError\u001b[0m                                 Traceback (most recent call last)",
            "\u001b[0;32m<ipython-input-67-6cfb4bba1bff>\u001b[0m in \u001b[0;36m<cell line: 19>\u001b[0;34m()\u001b[0m\n\u001b[1;32m     33\u001b[0m     \u001b[0;32melse\u001b[0m\u001b[0;34m:\u001b[0m\u001b[0;34m\u001b[0m\u001b[0;34m\u001b[0m\u001b[0m\n\u001b[1;32m     34\u001b[0m       \u001b[0mprint\u001b[0m\u001b[0;34m(\u001b[0m\u001b[0;34m'커피 맛있게 드세요'\u001b[0m\u001b[0;34m)\u001b[0m\u001b[0;34m\u001b[0m\u001b[0;34m\u001b[0m\u001b[0m\n\u001b[0;32m---> 35\u001b[0;31m       \u001b[0mbresk\u001b[0m\u001b[0;34m\u001b[0m\u001b[0;34m\u001b[0m\u001b[0m\n\u001b[0m\u001b[1;32m     36\u001b[0m \u001b[0;34m\u001b[0m\u001b[0m\n\u001b[1;32m     37\u001b[0m \u001b[0;34m\u001b[0m\u001b[0m\n",
            "\u001b[0;31mNameError\u001b[0m: name 'bresk' is not defined"
          ]
        }
      ]
    },
    {
      "cell_type": "code",
      "source": [
        "menu = '''[커피 자동주문 머신 메뉴]\n",
        "------------------------------------------------------------\n",
        "-아메리카노는 2500원\n",
        "-카레라떼는 3000원\n",
        "-카푸치노는 3000원\n",
        "원하시는 커피종류와 잔수를 입력하세요.\n",
        "------------------------------------------------------------'''\n",
        "print(menu)\n",
        "\n",
        "americano_price = 2500\n",
        "cafelatte_price = 3000\n",
        "cappuccino_price= 3000\n",
        "a= int(input('아메리카노 주문 수량을 적어주세요.:'))\n",
        "b=int(input('카페라떼 주문 수량을 적어주세요.:'))\n",
        "c=int(input('카푸치노 주문 수량을 적어주세요.:'))\n",
        "\n",
        "total_price=(americano_price*a)+(cafelatte_price*b)+(cappuccino_price*c)\n",
        "\n",
        "\n",
        "print(f'지불할 총 금액은:{total_price}','원')\n",
        "\n",
        "cash=int(input('돈을 넣어주세요.:'))\n",
        "\n",
        "change=(cash)-(total_price)\n",
        "\n",
        "\n",
        "\n",
        "while change < 0:\n",
        "    print(f'결제금액이 {change}원 부족합니다.')\n",
        "    minus = int(input('추가로 낸 금액을 적어주세요: '))\n",
        "    cash += minus\n",
        "    change = cash - total_price\n",
        "\n",
        "print(f'잔돈: {change}원')"
      ],
      "metadata": {
        "colab": {
          "base_uri": "https://localhost:8080/"
        },
        "id": "wf96_iQG3foN",
        "outputId": "ca5de6b7-ff8d-41da-d3bc-7733eca213ae"
      },
      "execution_count": 68,
      "outputs": [
        {
          "output_type": "stream",
          "name": "stdout",
          "text": [
            "[커피 자동주문 머신 메뉴]\n",
            "------------------------------------------------------------\n",
            "-아메리카노는 2500원\n",
            "-카레라떼는 3000원\n",
            "-카푸치노는 3000원\n",
            "원하시는 커피종류와 잔수를 입력하세요.\n",
            "------------------------------------------------------------\n",
            "아메리카노 주문 수량을 적어주세요.:2\n",
            "카페라떼 주문 수량을 적어주세요.:2\n",
            "카푸치노 주문 수량을 적어주세요.:1\n",
            "지불할 총 금액은:14000 원\n",
            "돈을 넣어주세요.:10000\n",
            "결제금액이 -4000원 부족합니다.\n",
            "추가로 낸 금액을 적어주세요: 8000\n",
            "잔돈: 4000원\n"
          ]
        }
      ]
    },
    {
      "cell_type": "markdown",
      "source": [
        "### **[난수(Random Number)]**"
      ],
      "metadata": {
        "id": "7GhEbWbZk7E6"
      }
    },
    {
      "cell_type": "markdown",
      "source": [
        "### 실습문제 : 임의의 두 수 합 구하기\n",
        "1부터 10까지의 범위를 갖는 임의의 두 정수 a, b를 더하여 결과 출력하기"
      ],
      "metadata": {
        "id": "AKBc_UvYk7Xj"
      }
    },
    {
      "cell_type": "code",
      "source": [
        "import random\n",
        "\n",
        "a = random.randint(1, 10)\n",
        "b = random.randint(1, 10)\n",
        "result =a+b\n",
        "print(f' a의 랜덤 숫자:{a}')\n",
        "print(f' b의 랜덤 숫자:{b}')\n",
        "print(f'{a}+{b}={result}입니다:')\n"
      ],
      "metadata": {
        "id": "C4ehMBmgk7pP",
        "colab": {
          "base_uri": "https://localhost:8080/"
        },
        "outputId": "1a8c6f85-77cd-4e12-9335-b9e4cbb46bab"
      },
      "execution_count": 71,
      "outputs": [
        {
          "output_type": "stream",
          "name": "stdout",
          "text": [
            " a의 랜덤 숫자:9\n",
            " b의 랜덤 숫자:6\n",
            "9+6=15입니다:\n"
          ]
        }
      ]
    },
    {
      "cell_type": "markdown",
      "source": [
        "### 실습문제 : 던져 나온 주사위의 눈금별 횟수 카운팅\n",
        "주사위를 100번 던져서 나오는 숫자를 각 숫자별로 카운트하고 가장 많이 나온 숫자와 그 숫자의 횟수를 출력하시오."
      ],
      "metadata": {
        "id": "cMhO5aWxlOF7"
      }
    },
    {
      "cell_type": "code",
      "source": [
        "import random\n",
        "dice = [0,0,0,0,0,0]\n",
        "for i in range(100):\n",
        "    x = random.randint(1,6)\n",
        "    dice[x-1] =  dice[x-1] + 1\n",
        "print(f'주사위 숫자별 나온 횟수: {dice}')\n",
        "print(f'가장 많이 나온 횟수는: {max(dice)}')\n",
        "print(f'가장 많이 나온 횟수의 주사위 눈금은: { dice.index(max(dice))+1}')\n"
      ],
      "metadata": {
        "id": "XUHOX-OzlONF",
        "colab": {
          "base_uri": "https://localhost:8080/"
        },
        "outputId": "2091b0c5-bfcf-4fcc-e0c8-0afe5187c1e8"
      },
      "execution_count": 80,
      "outputs": [
        {
          "output_type": "stream",
          "name": "stdout",
          "text": [
            "주사위 숫자별 나온 횟수: [17, 21, 11, 17, 21, 13]\n",
            "가장 많이 나온 횟수는: 21\n",
            "가장 많이 나온 횟수의 주사위 눈금은: 2\n"
          ]
        }
      ]
    },
    {
      "cell_type": "code",
      "source": [
        "# 성적 :\n",
        "score = [90, 100, 80, 99, 88]\n",
        "student_score = []\n",
        "for x in score:\n",
        "    student_score.append(f'수학 {x}점')\n",
        "print(student_score)\n",
        "\n",
        "#줄여서 사용함\n",
        "\n",
        "score = [90, 100, 80, 99, 88]\n",
        "student_score = [ f'수학 {x}점' for x in score ]\n",
        "print(student_score)"
      ],
      "metadata": {
        "id": "tEuuHt2J_VVI"
      },
      "execution_count": null,
      "outputs": []
    },
    {
      "cell_type": "markdown",
      "metadata": {
        "id": "FTX-Fvb28GGc"
      },
      "source": [
        "------"
      ]
    },
    {
      "cell_type": "markdown",
      "metadata": {
        "id": "8tdBEUuy8GGe"
      },
      "source": [
        "### 2-3. 함수를 이용하여 알고리즘 만들기"
      ]
    },
    {
      "cell_type": "markdown",
      "metadata": {
        "id": "A50BCkk98GGe"
      },
      "source": [
        "### **[함수 & 모듈]**"
      ]
    },
    {
      "cell_type": "code",
      "execution_count": null,
      "metadata": {
        "id": "3gNw75bI8GGe"
      },
      "outputs": [],
      "source": [
        "def nSum(a, b):\n",
        "    c = a + b\n",
        "    return c\n",
        "\n",
        "nSum(50, 3)"
      ]
    },
    {
      "cell_type": "markdown",
      "source": [
        "####  함수의 구조\n",
        "매개변수와 리턴값에 따른 함수의 유형 예"
      ],
      "metadata": {
        "id": "ZH2oJDOzmgta"
      }
    },
    {
      "cell_type": "markdown",
      "source": [
        "- 매개변수(X), 리턴값(X)"
      ],
      "metadata": {
        "id": "ZVu_uCmBmwX9"
      }
    },
    {
      "cell_type": "code",
      "source": [
        "def func():\n",
        "    print('안녕하세요!')\n",
        "\n",
        "print( func() )"
      ],
      "metadata": {
        "id": "PhoFdGdpmg2i"
      },
      "execution_count": null,
      "outputs": []
    },
    {
      "cell_type": "markdown",
      "source": [
        "- 매개변수(X), 리턴값(O)"
      ],
      "metadata": {
        "id": "rYJvu1mKm1lA"
      }
    },
    {
      "cell_type": "code",
      "source": [
        "def func():\n",
        "    print('안녕하세요!')\n",
        "    return '처리완료!'\n",
        "\n",
        "print( func() )"
      ],
      "metadata": {
        "id": "RtmltcdOm1sg"
      },
      "execution_count": null,
      "outputs": []
    },
    {
      "cell_type": "markdown",
      "source": [
        "- 매개변수(O), 리턴값(X)"
      ],
      "metadata": {
        "id": "kAiXc3qom1zq"
      }
    },
    {
      "cell_type": "code",
      "source": [
        "def func(a, b):\n",
        "    print('덧셈: %d + %d = %d' % (a, b, a+b))\n",
        "\n",
        "print( func(5, 7) )"
      ],
      "metadata": {
        "id": "mdneVBp_m16L"
      },
      "execution_count": null,
      "outputs": []
    },
    {
      "cell_type": "markdown",
      "source": [
        "- 매개변수(O), 리턴값(O)"
      ],
      "metadata": {
        "id": "UWx5mc2Bm2Ah"
      }
    },
    {
      "cell_type": "code",
      "source": [
        "def func(a, b):\n",
        "    print('덧셈: %d + %d = %d' % (a, b, a+b))\n",
        "    return a+b\n",
        "\n",
        "print( func(5, 7) )"
      ],
      "metadata": {
        "id": "u40Eqnc1m2IB"
      },
      "execution_count": null,
      "outputs": []
    },
    {
      "cell_type": "markdown",
      "source": [
        "### 실습문제 : 암스트롱수 구하기\n",
        "다음 조건을 참고하여 암스트롱수를 구하는 함수를 만들어 출력하는 프로그램을 만들어 보세요.\n",
        "- **암스트롱수** : 세 자리의 정수 중에서 각 자리의 수를 세 제곱한 수의 합과 자신이 같은 수"
      ],
      "metadata": {
        "id": "Oq6XLdiqm9lV"
      }
    },
    {
      "cell_type": "code",
      "source": [
        "# 암스트롱수 구하기\n",
        "def is_armstringNumber(N):\n",
        "    N100 = N//100\n",
        "    N10  = (N - N100*100)//10\n",
        "    N1   = (N - N100*100 - N10*10)\n",
        "    # print(f'{N100} {N10} {N1}')\n",
        "    if N == (N100**3 + N10**3 + N1**3):\n",
        "        return True\n",
        "    else:\n",
        "        return False\n",
        "\n",
        "for i in range(100, 1000):\n",
        "    if is_armstringNumber(i):\n",
        "        print(f'[{i}] 암수트롱 수!')\n",
        "\n",
        "\n"
      ],
      "metadata": {
        "id": "DvFLshFqm9t8"
      },
      "execution_count": null,
      "outputs": []
    },
    {
      "cell_type": "markdown",
      "metadata": {
        "id": "Kvzu_J_a8GGf"
      },
      "source": [
        "#### 실습문제\n",
        "아래 조건을 만족하는 커피 자동주문 머신을 만들어보세요."
      ]
    },
    {
      "cell_type": "code",
      "execution_count": 81,
      "metadata": {
        "scrolled": true,
        "id": "x1jdgfzq8GGf",
        "colab": {
          "base_uri": "https://localhost:8080/",
          "height": 146
        },
        "outputId": "01ca31a7-74fe-4618-cc2d-ad2feec850eb"
      },
      "outputs": [
        {
          "output_type": "error",
          "ename": "IndentationError",
          "evalue": "ignored",
          "traceback": [
            "\u001b[0;36m  File \u001b[0;32m\"<ipython-input-81-25727231abab>\"\u001b[0;36m, line \u001b[0;32m6\u001b[0m\n\u001b[0;31m    menu = '''[커피 자동주문 머신 메뉴]\u001b[0m\n\u001b[0m    ^\u001b[0m\n\u001b[0;31mIndentationError\u001b[0m\u001b[0;31m:\u001b[0m expected an indented block after function definition on line 1\n"
          ]
        }
      ],
      "source": []
    },
    {
      "cell_type": "markdown",
      "metadata": {
        "id": "Ajjvg18_8GGg"
      },
      "source": [
        "### 2-4. [미션] 응용 프로그램 만들기"
      ]
    },
    {
      "cell_type": "markdown",
      "metadata": {
        "id": "06eDtoTC8GGf"
      },
      "source": [
        "#### 실습문제\n",
        "아래 조건을 만족시키는 <영어단어장 만들기> 프로그램을 만들어 보세요.\n",
        "\n",
        "영단어는 key, 그의 뜻은 value 로 두는 dictionary 를 만드세요.<br>\n",
        "<메뉴>\n",
        " - 1. 단어 등록\n",
        " - 2. 단어 검색\n",
        " - 3. 단어 삭제\n",
        " - 4. 모든 단어 보기\n",
        " - 0. 종료하기\n",
        "\n",
        "1. 단어 등록 <br>\n",
        "    새 영단어와 그의 뜻을 입력 받고 dictionary 에 추가합니다.\n",
        "\n",
        "2. 단어 검색<br>\n",
        "    영단어를 입력 받아 그의 뜻을 출력합니다.<br>\n",
        "    미등록된 단어인 경우 '미등록 단어'를 출력합니다.\n",
        "    \n",
        "3. 단어 삭제<br>\n",
        "    영단어를 입력 받아 단어장에서 해당 단어를 삭제한다.<br>\n",
        "    미등록된 단어인 경우 '미등록 단어'를 출력합니다\n",
        "    \n",
        "4. 모든 단어 보기<br>\n",
        "    현재 등록되어 있는 모든 단어와 뜻을 출력합니다.\n",
        "\n",
        "0. 종료하기"
      ]
    },
    {
      "cell_type": "code",
      "execution_count": null,
      "metadata": {
        "id": "zEbKEifR8GGf"
      },
      "outputs": [],
      "source": [
        "\n"
      ]
    },
    {
      "cell_type": "markdown",
      "source": [
        "\n",
        "\n",
        "---\n",
        "THE END\n",
        "\n"
      ],
      "metadata": {
        "id": "SD7IuCtyEfxZ"
      }
    },
    {
      "cell_type": "markdown",
      "metadata": {
        "id": "RQoDVEJ38GGg"
      },
      "source": [
        "------"
      ]
    }
  ],
  "metadata": {
    "kernelspec": {
      "display_name": "Python 3",
      "language": "python",
      "name": "python3"
    },
    "language_info": {
      "codemirror_mode": {
        "name": "ipython",
        "version": 3
      },
      "file_extension": ".py",
      "mimetype": "text/x-python",
      "name": "python",
      "nbconvert_exporter": "python",
      "pygments_lexer": "ipython3",
      "version": "3.9.10"
    },
    "colab": {
      "provenance": [],
      "toc_visible": true,
      "include_colab_link": true
    }
  },
  "nbformat": 4,
  "nbformat_minor": 0
}