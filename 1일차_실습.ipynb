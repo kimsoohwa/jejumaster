{
  "nbformat": 4,
  "nbformat_minor": 0,
  "metadata": {
    "colab": {
      "provenance": [],
      "toc_visible": true,
      "authorship_tag": "ABX9TyOQysSIOvZyTIExezxIUhwP",
      "include_colab_link": true
    },
    "kernelspec": {
      "name": "python3",
      "display_name": "Python 3"
    },
    "language_info": {
      "name": "python"
    }
  },
  "cells": [
    {
      "cell_type": "markdown",
      "metadata": {
        "id": "view-in-github",
        "colab_type": "text"
      },
      "source": [
        "<a href=\"https://colab.research.google.com/github/kimsoohwa/jejumaster/blob/main/1%EC%9D%BC%EC%B0%A8_%EC%8B%A4%EC%8A%B5.ipynb\" target=\"_parent\"><img src=\"https://colab.research.google.com/assets/colab-badge.svg\" alt=\"Open In Colab\"/></a>"
      ]
    },
    {
      "cell_type": "code",
      "execution_count": 3,
      "metadata": {
        "colab": {
          "base_uri": "https://localhost:8080/"
        },
        "id": "kPXTtp9Ez62Z",
        "outputId": "0cf2983a-2cf9-43c7-c459-ad12d59e0734"
      },
      "outputs": [
        {
          "output_type": "stream",
          "name": "stdout",
          "text": [
            "파이썬 버젼:3.10.12 (main, Jun 11 2023, 05:26:28) [GCC 11.4.0]\n",
            "--------------------------------------------------\n",
            "파이썬 실핼파일 경로 :['/content', '/env/python', '/usr/lib/python310.zip', '/usr/lib/python3.10', '/usr/lib/python3.10/lib-dynload', '', '/usr/local/lib/python3.10/dist-packages', '/usr/lib/python3/dist-packages', '/usr/local/lib/python3.10/dist-packages/IPython/extensions', '/root/.ipython']\n"
          ]
        }
      ],
      "source": [
        "import sys\n",
        "print(f'파이썬 버젼:{sys.version}')\n",
        "print('-'*50)\n",
        "print('파이썬 실핼파일 경로 :%s' % sys.path)"
      ]
    },
    {
      "cell_type": "markdown",
      "source": [
        "#1일차-파이썬 실습\n",
        "##코랩에서 파이썬 사용하기\n",
        "------------------------------------------------\n",
        "설명도 이해할 수 있다."
      ],
      "metadata": {
        "id": "1emD994G04rq"
      }
    },
    {
      "cell_type": "code",
      "source": [
        "pip list"
      ],
      "metadata": {
        "id": "MaNzloI43WSy"
      },
      "execution_count": null,
      "outputs": []
    }
  ]
}